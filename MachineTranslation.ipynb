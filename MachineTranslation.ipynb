{
  "nbformat": 4,
  "nbformat_minor": 0,
  "metadata": {
    "colab": {
      "name": "345_MachineTranslation.ipynb",
      "provenance": []
    },
    "kernelspec": {
      "name": "python3",
      "display_name": "Python 3"
    }
  },
  "cells": [
    {
      "cell_type": "code",
      "metadata": {
        "id": "FsR_un0gni76"
      },
      "source": [
        "import numpy as np\r\n",
        "import pandas as pd\r\n",
        "import tensorflow as tf\r\n",
        "from keras.models import Sequential\r\n",
        "from keras.layers import Dense, LSTM, Embedding, RepeatVector\r\n",
        "from keras.preprocessing.text import Tokenizer\r\n",
        "from keras.callbacks import ModelCheckpoint\r\n",
        "from keras.preprocessing.sequence import pad_sequences\r\n",
        "from keras.models import load_model\r\n",
        "from keras import optimizers\r\n",
        "import matplotlib.pyplot as plt\r\n",
        "%matplotlib inline\r\n",
        "pd.set_option('display.max_colwidth', 200)\r\n",
        "tf.compat.v1.logging.set_verbosity(tf.compat.v1.logging.ERROR)"
      ],
      "execution_count": 2,
      "outputs": []
    },
    {
      "cell_type": "markdown",
      "metadata": {
        "id": "SNT2H8BZoW-e"
      },
      "source": [
        "**LOADING MY FILE**"
      ]
    },
    {
      "cell_type": "code",
      "metadata": {
        "id": "uIWvuIyqoVDu"
      },
      "source": [
        "# opening the input files\r\n",
        "file = open('/content/drive/MyDrive/NLP- Assignments/spa-eng.txt', mode='r', encoding='utf-8')\r\n",
        "        \r\n",
        "# reading all text\r\n",
        "text = file.read()\r\n",
        "\r\n",
        "# closing the file\r\n",
        "file.close()"
      ],
      "execution_count": 3,
      "outputs": []
    },
    {
      "cell_type": "markdown",
      "metadata": {
        "id": "6J0CCkKroo5e"
      },
      "source": [
        "*SPLITTING INTO TEXT**\r\n"
      ]
    },
    {
      "cell_type": "code",
      "metadata": {
        "colab": {
          "base_uri": "https://localhost:8080/"
        },
        "id": "MwvgLfAiokR6",
        "outputId": "16a878b2-0cae-44bf-ece2-69baf0571037"
      },
      "source": [
        "# split using '\\n' or newline character\r\n",
        "sentences = text.strip().split('\\n')\r\n",
        "    \r\n",
        "# split between english and spanish\r\n",
        "spanish_english = [i.split('\\t')[:2] for i in sentences]\r\n",
        "\r\n",
        "# list to numpy array\r\n",
        "spanish_english = np.array(spanish_english)\r\n",
        "\r\n",
        "print(spanish_english)"
      ],
      "execution_count": 5,
      "outputs": [
        {
          "output_type": "stream",
          "text": [
            "[['Go.' 'Ve.']\n",
            " ['Go.' 'Vete.']\n",
            " ['Go.' 'Vaya.']\n",
            " ...\n",
            " ['A carbon footprint is the amount of carbon dioxide pollution that we produce as a result of our activities. Some people try to reduce their carbon footprint because they are concerned about climate change.'\n",
            "  'Una huella de carbono es la cantidad de contaminación de dióxido de carbono que producimos como producto de nuestras actividades. Algunas personas intentan reducir su huella de carbono porque están preocupados acerca del cambio climático.']\n",
            " ['Since there are usually multiple websites on any given topic, I usually just click the back button when I arrive on any webpage that has pop-up advertising. I just go to the next page found by Google and hope for something less irritating.'\n",
            "  'Como suele haber varias páginas web sobre cualquier tema, normalmente sólo le doy al botón de retroceso cuando entro en una página web que tiene anuncios en ventanas emergentes. Simplemente voy a la siguiente página encontrada por Google y espero encontrar algo menos irritante.']\n",
            " ['If you want to sound like a native speaker, you must be willing to practice saying the same sentence over and over in the same way that banjo players practice the same phrase over and over until they can play it correctly and at the desired tempo.'\n",
            "  'Si quieres sonar como un hablante nativo, debes estar dispuesto a practicar diciendo la misma frase una y otra vez de la misma manera en que un músico de banjo practica el mismo fraseo una y otra vez hasta que lo puedan tocar correctamente y en el tiempo esperado.']]\n"
          ],
          "name": "stdout"
        }
      ]
    },
    {
      "cell_type": "markdown",
      "metadata": {
        "id": "vtQGhCPOpoG_"
      },
      "source": [
        "**DATA CLEANING**\r\n"
      ]
    },
    {
      "cell_type": "code",
      "metadata": {
        "id": "ote_08T5pMYc"
      },
      "source": [
        "# function to clean punctuations from text\r\n",
        "def clean(sentence):\r\n",
        "  punc = '''!()-[]{};:'\", <>./?@#$%^&*_~'''\r\n",
        "  for i in range(len(sentence)):  \r\n",
        "        if sentence[i] in punc:  \r\n",
        "            sentence =sentence.replace(sentence[i], \" \")  \r\n",
        "  return sentence\r\n",
        "\r\n",
        "for i in range(len(spanish_english)):\r\n",
        "  spanish_english[i,0]=clean(spanish_english[i,0])\r\n",
        "  spanish_english[i,1]=clean(spanish_english[i,1])"
      ],
      "execution_count": 6,
      "outputs": []
    },
    {
      "cell_type": "code",
      "metadata": {
        "id": "qw9SwrnVp5in"
      },
      "source": [
        "# transforming all uppercase character to lowercase to remove case sensitivity\r\n",
        "for i in range(len(spanish_english)):\r\n",
        "    spanish_english[i,0] = spanish_english[i,0].lower()\r\n",
        "    spanish_english[i,1] = spanish_english[i,1].lower()"
      ],
      "execution_count": 7,
      "outputs": []
    },
    {
      "cell_type": "code",
      "metadata": {
        "colab": {
          "base_uri": "https://localhost:8080/"
        },
        "id": "yNI0_HJ1p9wt",
        "outputId": "bba03468-af7a-4eeb-9348-7c08bddc9338"
      },
      "source": [
        "# for English side data\r\n",
        "# initialising tokenizer\r\n",
        "eng_tokenizer = Tokenizer()\r\n",
        "# fitting data\r\n",
        "eng_tokenizer.fit_on_texts(spanish_english[:,0])\r\n",
        "# getting vocab size\r\n",
        "eng_vocab_size = len(eng_tokenizer.word_index) + 1\r\n",
        "\r\n",
        "eng_length = 8\r\n",
        "print('English Vocabulary Size: %d' % eng_vocab_size)\r\n",
        "\r\n",
        "# for English side data\r\n",
        "# initialising tokenizer\r\n",
        "spanish_tokenizer = Tokenizer()\r\n",
        "# fitting data\r\n",
        "spanish_tokenizer.fit_on_texts(spanish_english[:,1])\r\n",
        "# getting vocab size\r\n",
        "spanish_vocab_size = len(spanish_tokenizer.word_index) + 1\r\n",
        "\r\n",
        "spanish_length = 8\r\n",
        "print('Spanish Vocabulary Size: %d' % spanish_vocab_size)"
      ],
      "execution_count": 8,
      "outputs": [
        {
          "output_type": "stream",
          "text": [
            "English Vocabulary Size: 13302\n",
            "Spanish Vocabulary Size: 27505\n"
          ],
          "name": "stdout"
        }
      ]
    },
    {
      "cell_type": "code",
      "metadata": {
        "id": "uYH86B18qJo5"
      },
      "source": [
        "#splitting dataset into train set \r\n",
        "from sklearn.model_selection import train_test_split\r\n",
        "\r\n",
        "# split data into train and test set in 80:20 ratio\r\n",
        "train, test = train_test_split(spanish_english, test_size=0.2, random_state = 12)"
      ],
      "execution_count": 9,
      "outputs": []
    },
    {
      "cell_type": "markdown",
      "metadata": {
        "id": "2E3Awy5lqSUI"
      },
      "source": [
        "**TOKENS TO SEQUENCE**"
      ]
    },
    {
      "cell_type": "code",
      "metadata": {
        "id": "9ej3jiHmqPoF"
      },
      "source": [
        "# function to encode text into numbers\r\n",
        "def encode_sequences( tokenizer , length , lines):\r\n",
        "\r\n",
        "  seq = tokenizer.texts_to_sequences(lines)\r\n",
        "  \r\n",
        "  # pad sequences with 0 values to make all sequences of equal length\r\n",
        "  seq = pad_sequences(seq, maxlen=length, padding='post')\r\n",
        "\r\n",
        "  return seq"
      ],
      "execution_count": 10,
      "outputs": []
    },
    {
      "cell_type": "code",
      "metadata": {
        "id": "Rq98hJWNqbKl"
      },
      "source": [
        "# prepare training data\r\n",
        "# spanish part\r\n",
        "trainX = encode_sequences(spanish_tokenizer, spanish_length, train[:, 1])\r\n",
        "\r\n",
        "# english part\r\n",
        "trainY = encode_sequences(eng_tokenizer, eng_length, train[:, 0])\r\n",
        "\r\n",
        "# prepare validation data\r\n",
        "# spanish part\r\n",
        "testX = encode_sequences(spanish_tokenizer, spanish_length, test[:, 1])\r\n",
        "\r\n",
        "# english part\r\n",
        "testY = encode_sequences(eng_tokenizer, eng_length, test[:, 0])"
      ],
      "execution_count": 11,
      "outputs": []
    },
    {
      "cell_type": "code",
      "metadata": {
        "id": "B2LKrSCQqhAM"
      },
      "source": [
        ""
      ],
      "execution_count": null,
      "outputs": []
    },
    {
      "cell_type": "markdown",
      "metadata": {
        "id": "aGJ7qYdwqjlU"
      },
      "source": [
        "**MODELLING**"
      ]
    },
    {
      "cell_type": "code",
      "metadata": {
        "colab": {
          "base_uri": "https://localhost:8080/"
        },
        "id": "lQuc6LbnqnB2",
        "outputId": "c10c7b2b-2b3c-422f-9d61-699bb8881351"
      },
      "source": [
        "#DEFINING MODEL\r\n",
        "# model initialisation\r\n",
        "model = Sequential()\r\n",
        "\r\n",
        "# adding embedding layer\r\n",
        "model.add(Embedding(spanish_vocab_size, 256, input_length=spanish_length, mask_zero=True))\r\n",
        "\r\n",
        "# adding a LSTM layer\r\n",
        "model.add(LSTM(256))\r\n",
        "\r\n",
        "model.add(RepeatVector(eng_length))\r\n",
        "\r\n",
        "# adding a LSTM layer\r\n",
        "model.add(LSTM(256, return_sequences=True))\r\n",
        "\r\n",
        "# adding a dense layer to predict words in english\r\n",
        "model.add(Dense(eng_vocab_size, activation='softmax'))\r\n",
        "\r\n",
        "# view model details\r\n",
        "model.summary()"
      ],
      "execution_count": 12,
      "outputs": [
        {
          "output_type": "stream",
          "text": [
            "Model: \"sequential\"\n",
            "_________________________________________________________________\n",
            "Layer (type)                 Output Shape              Param #   \n",
            "=================================================================\n",
            "embedding (Embedding)        (None, 8, 256)            7041280   \n",
            "_________________________________________________________________\n",
            "lstm (LSTM)                  (None, 256)               525312    \n",
            "_________________________________________________________________\n",
            "repeat_vector (RepeatVector) (None, 8, 256)            0         \n",
            "_________________________________________________________________\n",
            "lstm_1 (LSTM)                (None, 8, 256)            525312    \n",
            "_________________________________________________________________\n",
            "dense (Dense)                (None, 8, 13302)          3418614   \n",
            "=================================================================\n",
            "Total params: 11,510,518\n",
            "Trainable params: 11,510,518\n",
            "Non-trainable params: 0\n",
            "_________________________________________________________________\n"
          ],
          "name": "stdout"
        }
      ]
    },
    {
      "cell_type": "code",
      "metadata": {
        "id": "XqyxaKABq2Ie"
      },
      "source": [
        "#COMPILING MODEL!\r\n",
        "\r\n",
        "# using adam optimizer with sparse categorical cross entropy as loss function\r\n",
        "model.compile(optimizer='adam', loss='sparse_categorical_crossentropy')"
      ],
      "execution_count": 13,
      "outputs": []
    },
    {
      "cell_type": "markdown",
      "metadata": {
        "id": "rqy3MOX-q9Ei"
      },
      "source": [
        "Training Model"
      ]
    },
    {
      "cell_type": "code",
      "metadata": {
        "colab": {
          "base_uri": "https://localhost:8080/"
        },
        "id": "j5YVlicEvKom",
        "outputId": "dc2e94df-2704-4c7a-eb9b-1d93ac944027"
      },
      "source": [
        "# path to save model\r\n",
        "filename = '/content/drive/MyDrive/NLP- Assignments'\r\n",
        "checkpoint = ModelCheckpoint(filename, monitor='val_loss', verbose=1, save_best_only=True, mode='min')\r\n",
        "\r\n",
        "# train model\r\n",
        "history = model.fit(trainX, trainY.reshape(trainY.shape[0], trainY.shape[1], 1),\r\n",
        "                    epochs=10, batch_size=200, validation_split = 0.7,callbacks=[checkpoint], verbose=1)"
      ],
      "execution_count": 16,
      "outputs": [
        {
          "output_type": "stream",
          "text": [
            "Epoch 1/10\n",
            "151/151 [==============================] - 290s 2s/step - loss: 4.6668 - val_loss: 4.6704\n",
            "\n",
            "Epoch 00001: val_loss improved from inf to 4.67036, saving model to /content/drive/MyDrive/NLP- Assignments\n"
          ],
          "name": "stdout"
        },
        {
          "output_type": "stream",
          "text": [
            "WARNING:absl:Found untraced functions such as lstm_cell_layer_call_and_return_conditional_losses, lstm_cell_layer_call_fn, lstm_cell_1_layer_call_and_return_conditional_losses, lstm_cell_1_layer_call_fn, lstm_cell_layer_call_fn while saving (showing 5 of 10). These functions will not be directly callable after loading.\n",
            "WARNING:absl:Found untraced functions such as lstm_cell_layer_call_and_return_conditional_losses, lstm_cell_layer_call_fn, lstm_cell_1_layer_call_and_return_conditional_losses, lstm_cell_1_layer_call_fn, lstm_cell_layer_call_fn while saving (showing 5 of 10). These functions will not be directly callable after loading.\n"
          ],
          "name": "stderr"
        },
        {
          "output_type": "stream",
          "text": [
            "Epoch 2/10\n",
            "151/151 [==============================] - 293s 2s/step - loss: 4.6082 - val_loss: 4.6420\n",
            "\n",
            "Epoch 00002: val_loss improved from 4.67036 to 4.64202, saving model to /content/drive/MyDrive/NLP- Assignments\n"
          ],
          "name": "stdout"
        },
        {
          "output_type": "stream",
          "text": [
            "WARNING:absl:Found untraced functions such as lstm_cell_layer_call_and_return_conditional_losses, lstm_cell_layer_call_fn, lstm_cell_1_layer_call_and_return_conditional_losses, lstm_cell_1_layer_call_fn, lstm_cell_layer_call_fn while saving (showing 5 of 10). These functions will not be directly callable after loading.\n",
            "WARNING:absl:Found untraced functions such as lstm_cell_layer_call_and_return_conditional_losses, lstm_cell_layer_call_fn, lstm_cell_1_layer_call_and_return_conditional_losses, lstm_cell_1_layer_call_fn, lstm_cell_layer_call_fn while saving (showing 5 of 10). These functions will not be directly callable after loading.\n"
          ],
          "name": "stderr"
        },
        {
          "output_type": "stream",
          "text": [
            "Epoch 3/10\n",
            "151/151 [==============================] - 292s 2s/step - loss: 4.5673 - val_loss: 4.6245\n",
            "\n",
            "Epoch 00003: val_loss improved from 4.64202 to 4.62455, saving model to /content/drive/MyDrive/NLP- Assignments\n"
          ],
          "name": "stdout"
        },
        {
          "output_type": "stream",
          "text": [
            "WARNING:absl:Found untraced functions such as lstm_cell_layer_call_and_return_conditional_losses, lstm_cell_layer_call_fn, lstm_cell_1_layer_call_and_return_conditional_losses, lstm_cell_1_layer_call_fn, lstm_cell_layer_call_fn while saving (showing 5 of 10). These functions will not be directly callable after loading.\n",
            "WARNING:absl:Found untraced functions such as lstm_cell_layer_call_and_return_conditional_losses, lstm_cell_layer_call_fn, lstm_cell_1_layer_call_and_return_conditional_losses, lstm_cell_1_layer_call_fn, lstm_cell_layer_call_fn while saving (showing 5 of 10). These functions will not be directly callable after loading.\n"
          ],
          "name": "stderr"
        },
        {
          "output_type": "stream",
          "text": [
            "Epoch 4/10\n",
            "151/151 [==============================] - 294s 2s/step - loss: 4.5221 - val_loss: 4.6000\n",
            "\n",
            "Epoch 00004: val_loss improved from 4.62455 to 4.59998, saving model to /content/drive/MyDrive/NLP- Assignments\n"
          ],
          "name": "stdout"
        },
        {
          "output_type": "stream",
          "text": [
            "WARNING:absl:Found untraced functions such as lstm_cell_layer_call_and_return_conditional_losses, lstm_cell_layer_call_fn, lstm_cell_1_layer_call_and_return_conditional_losses, lstm_cell_1_layer_call_fn, lstm_cell_layer_call_fn while saving (showing 5 of 10). These functions will not be directly callable after loading.\n",
            "WARNING:absl:Found untraced functions such as lstm_cell_layer_call_and_return_conditional_losses, lstm_cell_layer_call_fn, lstm_cell_1_layer_call_and_return_conditional_losses, lstm_cell_1_layer_call_fn, lstm_cell_layer_call_fn while saving (showing 5 of 10). These functions will not be directly callable after loading.\n"
          ],
          "name": "stderr"
        },
        {
          "output_type": "stream",
          "text": [
            "Epoch 5/10\n",
            "151/151 [==============================] - 289s 2s/step - loss: 4.4719 - val_loss: 4.5656\n",
            "\n",
            "Epoch 00005: val_loss improved from 4.59998 to 4.56565, saving model to /content/drive/MyDrive/NLP- Assignments\n"
          ],
          "name": "stdout"
        },
        {
          "output_type": "stream",
          "text": [
            "WARNING:absl:Found untraced functions such as lstm_cell_layer_call_and_return_conditional_losses, lstm_cell_layer_call_fn, lstm_cell_1_layer_call_and_return_conditional_losses, lstm_cell_1_layer_call_fn, lstm_cell_layer_call_fn while saving (showing 5 of 10). These functions will not be directly callable after loading.\n",
            "WARNING:absl:Found untraced functions such as lstm_cell_layer_call_and_return_conditional_losses, lstm_cell_layer_call_fn, lstm_cell_1_layer_call_and_return_conditional_losses, lstm_cell_1_layer_call_fn, lstm_cell_layer_call_fn while saving (showing 5 of 10). These functions will not be directly callable after loading.\n"
          ],
          "name": "stderr"
        },
        {
          "output_type": "stream",
          "text": [
            "Epoch 6/10\n",
            "151/151 [==============================] - 292s 2s/step - loss: 4.4125 - val_loss: 4.5121\n",
            "\n",
            "Epoch 00006: val_loss improved from 4.56565 to 4.51208, saving model to /content/drive/MyDrive/NLP- Assignments\n"
          ],
          "name": "stdout"
        },
        {
          "output_type": "stream",
          "text": [
            "WARNING:absl:Found untraced functions such as lstm_cell_layer_call_and_return_conditional_losses, lstm_cell_layer_call_fn, lstm_cell_1_layer_call_and_return_conditional_losses, lstm_cell_1_layer_call_fn, lstm_cell_layer_call_fn while saving (showing 5 of 10). These functions will not be directly callable after loading.\n",
            "WARNING:absl:Found untraced functions such as lstm_cell_layer_call_and_return_conditional_losses, lstm_cell_layer_call_fn, lstm_cell_1_layer_call_and_return_conditional_losses, lstm_cell_1_layer_call_fn, lstm_cell_layer_call_fn while saving (showing 5 of 10). These functions will not be directly callable after loading.\n"
          ],
          "name": "stderr"
        },
        {
          "output_type": "stream",
          "text": [
            "Epoch 7/10\n",
            "151/151 [==============================] - 293s 2s/step - loss: 4.3406 - val_loss: 4.4613\n",
            "\n",
            "Epoch 00007: val_loss improved from 4.51208 to 4.46133, saving model to /content/drive/MyDrive/NLP- Assignments\n"
          ],
          "name": "stdout"
        },
        {
          "output_type": "stream",
          "text": [
            "WARNING:absl:Found untraced functions such as lstm_cell_layer_call_and_return_conditional_losses, lstm_cell_layer_call_fn, lstm_cell_1_layer_call_and_return_conditional_losses, lstm_cell_1_layer_call_fn, lstm_cell_layer_call_fn while saving (showing 5 of 10). These functions will not be directly callable after loading.\n",
            "WARNING:absl:Found untraced functions such as lstm_cell_layer_call_and_return_conditional_losses, lstm_cell_layer_call_fn, lstm_cell_1_layer_call_and_return_conditional_losses, lstm_cell_1_layer_call_fn, lstm_cell_layer_call_fn while saving (showing 5 of 10). These functions will not be directly callable after loading.\n"
          ],
          "name": "stderr"
        },
        {
          "output_type": "stream",
          "text": [
            "Epoch 8/10\n",
            "151/151 [==============================] - 299s 2s/step - loss: 4.2757 - val_loss: 4.4386\n",
            "\n",
            "Epoch 00008: val_loss improved from 4.46133 to 4.43858, saving model to /content/drive/MyDrive/NLP- Assignments\n"
          ],
          "name": "stdout"
        },
        {
          "output_type": "stream",
          "text": [
            "WARNING:absl:Found untraced functions such as lstm_cell_layer_call_and_return_conditional_losses, lstm_cell_layer_call_fn, lstm_cell_1_layer_call_and_return_conditional_losses, lstm_cell_1_layer_call_fn, lstm_cell_layer_call_fn while saving (showing 5 of 10). These functions will not be directly callable after loading.\n",
            "WARNING:absl:Found untraced functions such as lstm_cell_layer_call_and_return_conditional_losses, lstm_cell_layer_call_fn, lstm_cell_1_layer_call_and_return_conditional_losses, lstm_cell_1_layer_call_fn, lstm_cell_layer_call_fn while saving (showing 5 of 10). These functions will not be directly callable after loading.\n"
          ],
          "name": "stderr"
        },
        {
          "output_type": "stream",
          "text": [
            "Epoch 9/10\n",
            "151/151 [==============================] - 295s 2s/step - loss: 4.2212 - val_loss: 4.4048\n",
            "\n",
            "Epoch 00009: val_loss improved from 4.43858 to 4.40481, saving model to /content/drive/MyDrive/NLP- Assignments\n"
          ],
          "name": "stdout"
        },
        {
          "output_type": "stream",
          "text": [
            "WARNING:absl:Found untraced functions such as lstm_cell_layer_call_and_return_conditional_losses, lstm_cell_layer_call_fn, lstm_cell_1_layer_call_and_return_conditional_losses, lstm_cell_1_layer_call_fn, lstm_cell_layer_call_fn while saving (showing 5 of 10). These functions will not be directly callable after loading.\n",
            "WARNING:absl:Found untraced functions such as lstm_cell_layer_call_and_return_conditional_losses, lstm_cell_layer_call_fn, lstm_cell_1_layer_call_and_return_conditional_losses, lstm_cell_1_layer_call_fn, lstm_cell_layer_call_fn while saving (showing 5 of 10). These functions will not be directly callable after loading.\n"
          ],
          "name": "stderr"
        },
        {
          "output_type": "stream",
          "text": [
            "Epoch 10/10\n",
            "151/151 [==============================] - 294s 2s/step - loss: 4.1661 - val_loss: 4.3779\n",
            "\n",
            "Epoch 00010: val_loss improved from 4.40481 to 4.37790, saving model to /content/drive/MyDrive/NLP- Assignments\n"
          ],
          "name": "stdout"
        },
        {
          "output_type": "stream",
          "text": [
            "WARNING:absl:Found untraced functions such as lstm_cell_layer_call_and_return_conditional_losses, lstm_cell_layer_call_fn, lstm_cell_1_layer_call_and_return_conditional_losses, lstm_cell_1_layer_call_fn, lstm_cell_layer_call_fn while saving (showing 5 of 10). These functions will not be directly callable after loading.\n",
            "WARNING:absl:Found untraced functions such as lstm_cell_layer_call_and_return_conditional_losses, lstm_cell_layer_call_fn, lstm_cell_1_layer_call_and_return_conditional_losses, lstm_cell_1_layer_call_fn, lstm_cell_layer_call_fn while saving (showing 5 of 10). These functions will not be directly callable after loading.\n"
          ],
          "name": "stderr"
        }
      ]
    },
    {
      "cell_type": "code",
      "metadata": {
        "colab": {
          "base_uri": "https://localhost:8080/",
          "height": 265
        },
        "id": "xr9gypnz8SWi",
        "outputId": "202cd79f-180a-4c3d-8dbc-d54b6c19a3e9"
      },
      "source": [
        " #viewing model training progress \r\n",
        "\r\n",
        "plt.plot(history.history['loss'])\r\n",
        "plt.plot(history.history['val_loss'])\r\n",
        "plt.legend(['train','validation'])\r\n",
        "plt.show()\r\n"
      ],
      "execution_count": 17,
      "outputs": [
        {
          "output_type": "display_data",
          "data": {
            "image/png": "[encoded data removed]",
            "text/plain": [
              "<Figure size 432x288 with 1 Axes>"
            ]
          },
          "metadata": {
            "tags": [],
            "needs_background": "light"
          }
        }
      ]
    },
    {
      "cell_type": "code",
      "metadata": {
        "id": "jCtiBEWjxfBz"
      },
      "source": [
        "# load trained model\r\n",
        "model = load_model('/content/drive/MyDrive/NLP- Assignments/OLD-SPA')\r\n",
        "\r\n",
        "# list to store predictions\r\n",
        "preds_list=[]\r\n",
        "\r\n",
        "# predicting for 500 test sentences\r\n",
        "for i in range(500):\r\n",
        "  # predict function return the probabilities for target vobabularies\r\n",
        "  # argmax return the index having the maximum value\r\n",
        "  preds_list.append(np.argmax(model.predict(testX[i]), axis=-1))"
      ],
      "execution_count": 41,
      "outputs": []
    },
    {
      "cell_type": "code",
      "metadata": {
        "id": "eS9F9dHRyb7r"
      },
      "source": [
        "# function to map numbers to word in english language\r\n",
        "def get_word(n, tokenizer):\r\n",
        "      for word, index in tokenizer.word_index.items():\r\n",
        "          if index == n:\r\n",
        "              return word\r\n",
        "      return None"
      ],
      "execution_count": 42,
      "outputs": []
    },
    {
      "cell_type": "code",
      "metadata": {
        "id": "uEoN2HrbydE1"
      },
      "source": [
        "# to store predicted texts\r\n",
        "preds_text = []\r\n",
        "\r\n",
        "# to traverse predicted values\r\n",
        "for preds in preds_list:\r\n",
        "\r\n",
        "  # to store predicted sentence\r\n",
        "  sentence=''\r\n",
        "\r\n",
        "  # iterating through each sequence\r\n",
        "  for i in preds:\r\n",
        "        # to store words \r\n",
        "        temp = []\r\n",
        "        for j in range(len(i)):\r\n",
        "              t = get_word(i[j], eng_tokenizer)\r\n",
        "              if j > 0:\r\n",
        "                  if (t == get_word(i[j-1], eng_tokenizer)) or (t == None):\r\n",
        "                      temp.append('')\r\n",
        "                  else:\r\n",
        "                      temp.append(t)\r\n",
        "              else:\r\n",
        "                    if(t == None):\r\n",
        "                            temp.append('')\r\n",
        "                    else:\r\n",
        "                            temp.append(t)\r\n",
        "        # forming by combining words\r\n",
        "        sentence=sentence+' '+str.strip(' '.join(temp))\r\n",
        "        \r\n",
        "  # adding predicted sentences to list\r\n",
        "  preds_text.append(sentence)"
      ],
      "execution_count": 43,
      "outputs": []
    },
    {
      "cell_type": "code",
      "metadata": {
        "colab": {
          "base_uri": "https://localhost:8080/",
          "height": 355
        },
        "id": "4_uE_Aih0n3x",
        "outputId": "29c2f08d-37fe-420a-dea1-87758b1fd9af"
      },
      "source": [
        "# viewing predictions\r\n",
        "pred_df = pd.DataFrame({'actual' : test[:500,0], 'predicted' : preds_text[:500]})\r\n",
        "pred_df.sample(10)"
      ],
      "execution_count": 44,
      "outputs": [
        {
          "output_type": "execute_result",
          "data": {
            "text/html": [
              "<div>\n",
              "<style scoped>\n",
              "    .dataframe tbody tr th:only-of-type {\n",
              "        vertical-align: middle;\n",
              "    }\n",
              "\n",
              "    .dataframe tbody tr th {\n",
              "        vertical-align: top;\n",
              "    }\n",
              "\n",
              "    .dataframe thead th {\n",
              "        text-align: right;\n",
              "    }\n",
              "</style>\n",
              "<table border=\"1\" class=\"dataframe\">\n",
              "  <thead>\n",
              "    <tr style=\"text-align: right;\">\n",
              "      <th></th>\n",
              "      <th>actual</th>\n",
              "      <th>predicted</th>\n",
              "    </tr>\n",
              "  </thead>\n",
              "  <tbody>\n",
              "    <tr>\n",
              "      <th>405</th>\n",
              "      <td>would you like to add me to your contact list</td>\n",
              "      <td>i you tom tom i it you tom tom tom</td>\n",
              "    </tr>\n",
              "    <tr>\n",
              "      <th>256</th>\n",
              "      <td>what color do you like</td>\n",
              "      <td>let you tom let you let tom tom tom tom tom</td>\n",
              "    </tr>\n",
              "    <tr>\n",
              "      <th>135</th>\n",
              "      <td>i know what s going on</td>\n",
              "      <td>i  you let it i you tom let it tom tom tom</td>\n",
              "    </tr>\n",
              "    <tr>\n",
              "      <th>482</th>\n",
              "      <td>he listened very carefully in order not to miss a single word</td>\n",
              "      <td>i you i tom i it let you the you i it</td>\n",
              "    </tr>\n",
              "    <tr>\n",
              "      <th>15</th>\n",
              "      <td>that s an incredible story</td>\n",
              "      <td>they is the tom tom tom tom tom tom</td>\n",
              "    </tr>\n",
              "    <tr>\n",
              "      <th>420</th>\n",
              "      <td>i ve been here the longest</td>\n",
              "      <td>i  it i you i it you i you tom tom tom</td>\n",
              "    </tr>\n",
              "    <tr>\n",
              "      <th>311</th>\n",
              "      <td>i know tom from work</td>\n",
              "      <td>i you tom tom the i you tom tom tom</td>\n",
              "    </tr>\n",
              "    <tr>\n",
              "      <th>484</th>\n",
              "      <td>do you like to be alone</td>\n",
              "      <td>i you let tom let to i you tom tom tom tom</td>\n",
              "    </tr>\n",
              "    <tr>\n",
              "      <th>198</th>\n",
              "      <td>tom is my father</td>\n",
              "      <td>tom they is i the tom tom tom tom tom</td>\n",
              "    </tr>\n",
              "    <tr>\n",
              "      <th>451</th>\n",
              "      <td>i know the feeling</td>\n",
              "      <td>i  you let it i you tom tom tom tom tom</td>\n",
              "    </tr>\n",
              "  </tbody>\n",
              "</table>\n",
              "</div>"
            ],
            "text/plain": [
              "                                                             actual                                     predicted\n",
              "405                  would you like to add me to your contact list             i you tom tom i it you tom tom tom\n",
              "256                                         what color do you like    let you tom let you let tom tom tom tom tom\n",
              "135                                         i know what s going on     i  you let it i you tom let it tom tom tom\n",
              "482  he listened very carefully in order not to miss a single word          i you i tom i it let you the you i it\n",
              "15                                      that s an incredible story            they is the tom tom tom tom tom tom\n",
              "420                                     i ve been here the longest         i  it i you i it you i you tom tom tom\n",
              "311                                           i know tom from work            i you tom tom the i you tom tom tom\n",
              "484                                        do you like to be alone     i you let tom let to i you tom tom tom tom\n",
              "198                                               tom is my father          tom they is i the tom tom tom tom tom\n",
              "451                                             i know the feeling        i  you let it i you tom tom tom tom tom"
            ]
          },
          "metadata": {
            "tags": []
          },
          "execution_count": 44
        }
      ]
    },
    {
      "cell_type": "code",
      "metadata": {
        "colab": {
          "base_uri": "https://localhost:8080/"
        },
        "id": "W0kfDEy-0zrD",
        "outputId": "93d0f3d6-5bbe-43d0-bd9c-a73a3886c9af"
      },
      "source": [
        "import nltk\r\n",
        "\r\n",
        "BLEU = 0\r\n",
        "\r\n",
        "for i in range(500):\r\n",
        "  BLEU += nltk.translate.bleu_score.sentence_bleu([test[i,0]], preds_text[i])\r\n",
        "\r\n",
        "BLEU/=500\r\n",
        "\r\n",
        "print(\"BLEU Score achieved is :\",BLEU*100)"
      ],
      "execution_count": 45,
      "outputs": [
        {
          "output_type": "stream",
          "text": [
            "BLEU Score achieved is : 20.916028194831817\n"
          ],
          "name": "stdout"
        },
        {
          "output_type": "stream",
          "text": [
            "/usr/local/lib/python3.6/dist-packages/nltk/translate/bleu_score.py:490: UserWarning: \n",
            "Corpus/Sentence contains 0 counts of 3-gram overlaps.\n",
            "BLEU scores might be undesirable; use SmoothingFunction().\n",
            "  warnings.warn(_msg)\n",
            "/usr/local/lib/python3.6/dist-packages/nltk/translate/bleu_score.py:490: UserWarning: \n",
            "Corpus/Sentence contains 0 counts of 4-gram overlaps.\n",
            "BLEU scores might be undesirable; use SmoothingFunction().\n",
            "  warnings.warn(_msg)\n",
            "/usr/local/lib/python3.6/dist-packages/nltk/translate/bleu_score.py:490: UserWarning: \n",
            "Corpus/Sentence contains 0 counts of 2-gram overlaps.\n",
            "BLEU scores might be undesirable; use SmoothingFunction().\n",
            "  warnings.warn(_msg)\n"
          ],
          "name": "stderr"
        }
      ]
    },
    {
      "cell_type": "markdown",
      "metadata": {
        "id": "4RR-RSDNxfYO"
      },
      "source": [
        "TRAINING MODEL WITH LITTLE CHANGES"
      ]
    },
    {
      "cell_type": "code",
      "metadata": {
        "colab": {
          "base_uri": "https://localhost:8080/"
        },
        "id": "Su7MdfVaEcIh",
        "outputId": "dc36a36b-e874-49f0-8057-b8a5d252150f"
      },
      "source": [
        "# path to save model\r\n",
        "filename = '/content/drive/MyDrive/NLP- Assignments/spa-english'\r\n",
        "checkpoint = ModelCheckpoint(filename, monitor='val_loss', verbose=1, save_best_only=True, mode='min')\r\n",
        "\r\n",
        "# train model\r\n",
        "history = model.fit(trainX, trainY.reshape(trainY.shape[0], trainY.shape[1], 1),\r\n",
        "                    epochs=5, batch_size=250, validation_split = 0.3,callbacks=[checkpoint], verbose=1)"
      ],
      "execution_count": 31,
      "outputs": [
        {
          "output_type": "stream",
          "text": [
            "Epoch 1/5\n",
            "281/281 [==============================] - 393s 1s/step - loss: 1.5979 - val_loss: 2.9193\n",
            "\n",
            "Epoch 00001: val_loss improved from inf to 2.91933, saving model to /content/drive/MyDrive/NLP- Assignments/spa-english\n"
          ],
          "name": "stdout"
        },
        {
          "output_type": "stream",
          "text": [
            "WARNING:absl:Found untraced functions such as lstm_cell_layer_call_and_return_conditional_losses, lstm_cell_layer_call_fn, lstm_cell_1_layer_call_and_return_conditional_losses, lstm_cell_1_layer_call_fn, lstm_cell_layer_call_fn while saving (showing 5 of 10). These functions will not be directly callable after loading.\n",
            "WARNING:absl:Found untraced functions such as lstm_cell_layer_call_and_return_conditional_losses, lstm_cell_layer_call_fn, lstm_cell_1_layer_call_and_return_conditional_losses, lstm_cell_1_layer_call_fn, lstm_cell_layer_call_fn while saving (showing 5 of 10). These functions will not be directly callable after loading.\n"
          ],
          "name": "stderr"
        },
        {
          "output_type": "stream",
          "text": [
            "Epoch 2/5\n",
            "281/281 [==============================] - 397s 1s/step - loss: 1.5177 - val_loss: 2.9294\n",
            "\n",
            "Epoch 00002: val_loss did not improve from 2.91933\n",
            "Epoch 3/5\n",
            "281/281 [==============================] - 392s 1s/step - loss: 1.4429 - val_loss: 2.9172\n",
            "\n",
            "Epoch 00003: val_loss improved from 2.91933 to 2.91724, saving model to /content/drive/MyDrive/NLP- Assignments/spa-english\n"
          ],
          "name": "stdout"
        },
        {
          "output_type": "stream",
          "text": [
            "WARNING:absl:Found untraced functions such as lstm_cell_layer_call_and_return_conditional_losses, lstm_cell_layer_call_fn, lstm_cell_1_layer_call_and_return_conditional_losses, lstm_cell_1_layer_call_fn, lstm_cell_layer_call_fn while saving (showing 5 of 10). These functions will not be directly callable after loading.\n",
            "WARNING:absl:Found untraced functions such as lstm_cell_layer_call_and_return_conditional_losses, lstm_cell_layer_call_fn, lstm_cell_1_layer_call_and_return_conditional_losses, lstm_cell_1_layer_call_fn, lstm_cell_layer_call_fn while saving (showing 5 of 10). These functions will not be directly callable after loading.\n"
          ],
          "name": "stderr"
        },
        {
          "output_type": "stream",
          "text": [
            "Epoch 4/5\n",
            "281/281 [==============================] - 396s 1s/step - loss: 1.3755 - val_loss: 2.9274\n",
            "\n",
            "Epoch 00004: val_loss did not improve from 2.91724\n",
            "Epoch 5/5\n",
            "281/281 [==============================] - 395s 1s/step - loss: 1.3116 - val_loss: 2.9355\n",
            "\n",
            "Epoch 00005: val_loss did not improve from 2.91724\n"
          ],
          "name": "stdout"
        }
      ]
    },
    {
      "cell_type": "code",
      "metadata": {
        "colab": {
          "base_uri": "https://localhost:8080/",
          "height": 267
        },
        "id": "6oN6lUGIvq6j",
        "outputId": "c8efe7c3-c79e-4000-f916-6a7154133a0e"
      },
      "source": [
        "# viewing model training progress \r\n",
        "\r\n",
        "plt.plot(history.history['loss'])\r\n",
        "plt.plot(history.history['val_loss'])\r\n",
        "plt.legend(['train','validation'])\r\n",
        "plt.show()"
      ],
      "execution_count": 32,
      "outputs": [
        {
          "output_type": "display_data",
          "data": {
            "image/png": "[encoded data removed]",
            "text/plain": [
              "<Figure size 432x288 with 1 Axes>"
            ]
          },
          "metadata": {
            "tags": [],
            "needs_background": "light"
          }
        }
      ]
    },
    {
      "cell_type": "code",
      "metadata": {
        "id": "CeZAPGxHv0sK"
      },
      "source": [
        "# load trained model\r\n",
        "model = load_model('/content/drive/MyDrive/NLP- Assignments/spa-english')\r\n",
        "\r\n",
        "# list to store predictions\r\n",
        "preds_list=[]\r\n",
        "\r\n",
        "# predicting for 500 test sentences\r\n",
        "for i in range(500):\r\n",
        "  # predict function return the probabilities for target vobabularies\r\n",
        "  # argmax return the index having the maximum value\r\n",
        "  preds_list.append(np.argmax(model.predict(testX[i]), axis=-1))"
      ],
      "execution_count": 36,
      "outputs": []
    },
    {
      "cell_type": "code",
      "metadata": {
        "id": "xbuwevDODQDA"
      },
      "source": [
        "# function to map numbers to word in english language\r\n",
        "def get_word(n, tokenizer):\r\n",
        "      for word, index in tokenizer.word_index.items():\r\n",
        "          if index == n:\r\n",
        "              return word\r\n",
        "      return None"
      ],
      "execution_count": 37,
      "outputs": []
    },
    {
      "cell_type": "code",
      "metadata": {
        "id": "WYwRywiPDSYO"
      },
      "source": [
        "# to store predicted texts\r\n",
        "preds_text = []\r\n",
        "\r\n",
        "# to traverse predicted values\r\n",
        "for preds in preds_list:\r\n",
        "\r\n",
        "  # to store predicted sentence\r\n",
        "  sentence=''\r\n",
        "\r\n",
        "  # iterating through each sequence\r\n",
        "  for i in preds:\r\n",
        "        # to store words \r\n",
        "        temp = []\r\n",
        "        for j in range(len(i)):\r\n",
        "              t = get_word(i[j], eng_tokenizer)\r\n",
        "              if j > 0:\r\n",
        "                  if (t == get_word(i[j-1], eng_tokenizer)) or (t == None):\r\n",
        "                      temp.append('')\r\n",
        "                  else:\r\n",
        "                      temp.append(t)\r\n",
        "              else:\r\n",
        "                    if(t == None):\r\n",
        "                            temp.append('')\r\n",
        "                    else:\r\n",
        "                            temp.append(t)\r\n",
        "        # forming by combining words\r\n",
        "        sentence=sentence+' '+str.strip(' '.join(temp))\r\n",
        "        \r\n",
        "  # adding predicted sentences to list\r\n",
        "  preds_text.append(sentence)"
      ],
      "execution_count": 38,
      "outputs": []
    },
    {
      "cell_type": "code",
      "metadata": {
        "colab": {
          "base_uri": "https://localhost:8080/",
          "height": 543
        },
        "id": "x_AAOKnPxO0d",
        "outputId": "7864ad9c-287d-489a-e19e-2466ff409ca8"
      },
      "source": [
        "# viewing predictions\r\n",
        "pred_df = pd.DataFrame({'actual' : test[:500,0], 'predicted' : preds_text[:500]})\r\n",
        "pred_df.sample(15)"
      ],
      "execution_count": 39,
      "outputs": [
        {
          "output_type": "execute_result",
          "data": {
            "text/html": [
              "<div>\n",
              "<style scoped>\n",
              "    .dataframe tbody tr th:only-of-type {\n",
              "        vertical-align: middle;\n",
              "    }\n",
              "\n",
              "    .dataframe tbody tr th {\n",
              "        vertical-align: top;\n",
              "    }\n",
              "\n",
              "    .dataframe thead th {\n",
              "        text-align: right;\n",
              "    }\n",
              "</style>\n",
              "<table border=\"1\" class=\"dataframe\">\n",
              "  <thead>\n",
              "    <tr style=\"text-align: right;\">\n",
              "      <th></th>\n",
              "      <th>actual</th>\n",
              "      <th>predicted</th>\n",
              "    </tr>\n",
              "  </thead>\n",
              "  <tbody>\n",
              "    <tr>\n",
              "      <th>358</th>\n",
              "      <td>can it be fixed</td>\n",
              "      <td>do you it loosen it it fix</td>\n",
              "    </tr>\n",
              "    <tr>\n",
              "      <th>243</th>\n",
              "      <td>there is a bathroom here</td>\n",
              "      <td>let s there take a here</td>\n",
              "    </tr>\n",
              "    <tr>\n",
              "      <th>333</th>\n",
              "      <td>i don t have the slightest idea what to do</td>\n",
              "      <td>it wouldn i  have leave the thanks just bad tom let what it push it</td>\n",
              "    </tr>\n",
              "    <tr>\n",
              "      <th>97</th>\n",
              "      <td>have my kids been annoying you</td>\n",
              "      <td>do you like they i s up champagne i my come children</td>\n",
              "    </tr>\n",
              "    <tr>\n",
              "      <th>199</th>\n",
              "      <td>the mail has arrived</td>\n",
              "      <td>it it the get up mail</td>\n",
              "    </tr>\n",
              "    <tr>\n",
              "      <th>308</th>\n",
              "      <td>i can t play the flute</td>\n",
              "      <td>it wouldn i know play to leave the stay</td>\n",
              "    </tr>\n",
              "    <tr>\n",
              "      <th>207</th>\n",
              "      <td>tom took little sips of the piping hot coffee</td>\n",
              "      <td>examine tom it s up look a close the get the coffee make very good be warm</td>\n",
              "    </tr>\n",
              "    <tr>\n",
              "      <th>269</th>\n",
              "      <td>i don t know anybody here</td>\n",
              "      <td>here it wouldn i know them go nobody anyone</td>\n",
              "    </tr>\n",
              "    <tr>\n",
              "      <th>299</th>\n",
              "      <td>shampoo and toothpaste are the same price</td>\n",
              "      <td>the i and the a of it push it the</td>\n",
              "    </tr>\n",
              "    <tr>\n",
              "      <th>136</th>\n",
              "      <td>i ran in order to be on time</td>\n",
              "      <td>i ran go let it go just it time</td>\n",
              "    </tr>\n",
              "    <tr>\n",
              "      <th>40</th>\n",
              "      <td>gravity is the natural force by which objects are attracted to each other</td>\n",
              "      <td>things check this stay the a go stay the speak</td>\n",
              "    </tr>\n",
              "    <tr>\n",
              "      <th>211</th>\n",
              "      <td>i don t want to keep doing this</td>\n",
              "      <td>it wouldn i want them keep to keep prepared examine this</td>\n",
              "    </tr>\n",
              "    <tr>\n",
              "      <th>26</th>\n",
              "      <td>the earthquake caused widespread damage</td>\n",
              "      <td>the in there you the get it</td>\n",
              "    </tr>\n",
              "    <tr>\n",
              "      <th>291</th>\n",
              "      <td>tell me how to get to the beach</td>\n",
              "      <td>let me i it let it go leave the get on</td>\n",
              "    </tr>\n",
              "    <tr>\n",
              "      <th>166</th>\n",
              "      <td>don t go into the jungle alone</td>\n",
              "      <td>it wouldn wake  you get it stay leave the get in just</td>\n",
              "    </tr>\n",
              "  </tbody>\n",
              "</table>\n",
              "</div>"
            ],
            "text/plain": [
              "                                                                         actual                                                                    predicted\n",
              "358                                                            can it be fixed                                               do you it loosen it it fix     \n",
              "243                                                   there is a bathroom here                                                  let s there take a here     \n",
              "333                                 i don t have the slightest idea what to do           it wouldn i  have leave the thanks just bad tom let what it push it\n",
              "97                                              have my kids been annoying you                        do you like they i s up champagne i my come children  \n",
              "199                                                       the mail has arrived                                                     it it the get up mail    \n",
              "308                                                     i can t play the flute                                    it wouldn i know play to leave the stay   \n",
              "207                              tom took little sips of the piping hot coffee    examine tom it s up look a close the get the coffee make very good be warm\n",
              "269                                                  i don t know anybody here                                here it wouldn i know them go nobody anyone   \n",
              "299                                  shampoo and toothpaste are the same price                                             the i and the a of it push it the\n",
              "136                                               i ran in order to be on time                                            i ran go let it go just it time   \n",
              "40   gravity is the natural force by which objects are attracted to each other                                things check this stay the a go stay the speak\n",
              "211                                            i don t want to keep doing this                   it wouldn i want them keep to keep prepared examine this   \n",
              "26                                     the earthquake caused widespread damage                                                the in there you the get it   \n",
              "291                                            tell me how to get to the beach                                      let me i it let it go leave the get on  \n",
              "166                                             don t go into the jungle alone                        it wouldn wake  you get it stay leave the get in just "
            ]
          },
          "metadata": {
            "tags": []
          },
          "execution_count": 39
        }
      ]
    },
    {
      "cell_type": "code",
      "metadata": {
        "colab": {
          "base_uri": "https://localhost:8080/"
        },
        "id": "FE5SbAgnxVFx",
        "outputId": "fcc9cdbc-5c82-4e70-abf6-6552e06de9ca"
      },
      "source": [
        "import nltk\r\n",
        "\r\n",
        "BLEU = 0\r\n",
        "\r\n",
        "for i in range(500):\r\n",
        "  BLEU += nltk.translate.bleu_score.sentence_bleu([test[i,0]], preds_text[i])\r\n",
        "\r\n",
        "BLEU/=500\r\n",
        "\r\n",
        "print(\"BLEU Score achieved is :\",BLEU*100)"
      ],
      "execution_count": 40,
      "outputs": [
        {
          "output_type": "stream",
          "text": [
            "BLEU Score achieved is : 29.60729675786744\n"
          ],
          "name": "stdout"
        },
        {
          "output_type": "stream",
          "text": [
            "/usr/local/lib/python3.6/dist-packages/nltk/translate/bleu_score.py:490: UserWarning: \n",
            "Corpus/Sentence contains 0 counts of 2-gram overlaps.\n",
            "BLEU scores might be undesirable; use SmoothingFunction().\n",
            "  warnings.warn(_msg)\n",
            "/usr/local/lib/python3.6/dist-packages/nltk/translate/bleu_score.py:490: UserWarning: \n",
            "Corpus/Sentence contains 0 counts of 3-gram overlaps.\n",
            "BLEU scores might be undesirable; use SmoothingFunction().\n",
            "  warnings.warn(_msg)\n",
            "/usr/local/lib/python3.6/dist-packages/nltk/translate/bleu_score.py:490: UserWarning: \n",
            "Corpus/Sentence contains 0 counts of 4-gram overlaps.\n",
            "BLEU scores might be undesirable; use SmoothingFunction().\n",
            "  warnings.warn(_msg)\n"
          ],
          "name": "stderr"
        }
      ]
    }
  ]
}