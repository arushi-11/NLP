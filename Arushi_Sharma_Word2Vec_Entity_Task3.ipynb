{
  "nbformat": 4,
  "nbformat_minor": 0,
  "metadata": {
    "colab": {
      "name": "Arushi Sharma - Word2Vec_Entity_Task3.ipynb",
      "provenance": [],
      "collapsed_sections": [],
      "toc_visible": true
    },
    "kernelspec": {
      "name": "python3",
      "display_name": "Python 3"
    }
  },
  "cells": [
    {
      "cell_type": "markdown",
      "metadata": {
        "id": "8fK5KG-MVpv6"
      },
      "source": [
        "# Importing necessory libraries"
      ]
    },
    {
      "cell_type": "code",
      "metadata": {
        "id": "Yh2HqWNyK7As",
        "colab": {
          "base_uri": "https://localhost:8080/",
          "height": 87
        },
        "outputId": "4e45c143-8dbf-45de-e9e5-8e9ecb47b4ee"
      },
      "source": [
        "from nltk.corpus import reuters\r\n",
        "from sklearn.preprocessing import MultiLabelBinarizer\r\n",
        "import spacy\r\n",
        "import numpy as np\r\n",
        "\r\n",
        "'''\r\n",
        "  References:\r\n",
        "  https://spacy.io/usage/vectors-similarity\r\n",
        "  https://spacy.io/usage/linguistic-features#named-entities\r\n",
        "  https://scikit-learn.org/stable/modules/generated/sklearn.preprocessing.MultiLabelBinarizer.html\r\n",
        "  https://scikit-learn.org/stable/modules/generated/sklearn.naive_bayes.GaussianNB.html\r\n",
        "  https://scikit-learn.org/stable/modules/generated/sklearn.linear_model.LogisticRegression.html\r\n",
        "'''"
      ],
      "execution_count": null,
      "outputs": [
        {
          "output_type": "execute_result",
          "data": {
            "application/vnd.google.colaboratory.intrinsic+json": {
              "type": "string"
            },
            "text/plain": [
              "'\\n  References:\\n  https://spacy.io/usage/vectors-similarity\\n  https://spacy.io/usage/linguistic-features#named-entities\\n  https://scikit-learn.org/stable/modules/generated/sklearn.preprocessing.MultiLabelBinarizer.html\\n  https://scikit-learn.org/stable/modules/generated/sklearn.naive_bayes.GaussianNB.html\\n  https://scikit-learn.org/stable/modules/generated/sklearn.linear_model.LogisticRegression.html\\n'"
            ]
          },
          "metadata": {
            "tags": []
          },
          "execution_count": 2
        }
      ]
    },
    {
      "cell_type": "code",
      "metadata": {
        "colab": {
          "base_uri": "https://localhost:8080/"
        },
        "id": "6OXmNyPiNGIn",
        "outputId": "a2abf11e-46f9-430c-f160-e2f18498b853"
      },
      "source": [
        "import nltk\r\n",
        "nltk.download('reuters')\r\n",
        "!python -m spacy download en_core_web_lg"
      ],
      "execution_count": null,
      "outputs": [
        {
          "output_type": "stream",
          "text": [
            "[nltk_data] Downloading package reuters to /root/nltk_data...\n",
            "Collecting en_core_web_lg==2.2.5\n",
            "\u001b[?25l  Downloading https://github.com/explosion/spacy-models/releases/download/en_core_web_lg-2.2.5/en_core_web_lg-2.2.5.tar.gz (827.9MB)\n",
            "\u001b[K     |████████████████████████████████| 827.9MB 1.1MB/s \n",
            "\u001b[?25hRequirement already satisfied: spacy>=2.2.2 in /usr/local/lib/python3.6/dist-packages (from en_core_web_lg==2.2.5) (2.2.4)\n",
            "Requirement already satisfied: catalogue<1.1.0,>=0.0.7 in /usr/local/lib/python3.6/dist-packages (from spacy>=2.2.2->en_core_web_lg==2.2.5) (1.0.0)\n",
            "Requirement already satisfied: plac<1.2.0,>=0.9.6 in /usr/local/lib/python3.6/dist-packages (from spacy>=2.2.2->en_core_web_lg==2.2.5) (1.1.3)\n",
            "Requirement already satisfied: wasabi<1.1.0,>=0.4.0 in /usr/local/lib/python3.6/dist-packages (from spacy>=2.2.2->en_core_web_lg==2.2.5) (0.8.0)\n",
            "Requirement already satisfied: tqdm<5.0.0,>=4.38.0 in /usr/local/lib/python3.6/dist-packages (from spacy>=2.2.2->en_core_web_lg==2.2.5) (4.41.1)\n",
            "Requirement already satisfied: numpy>=1.15.0 in /usr/local/lib/python3.6/dist-packages (from spacy>=2.2.2->en_core_web_lg==2.2.5) (1.19.5)\n",
            "Requirement already satisfied: thinc==7.4.0 in /usr/local/lib/python3.6/dist-packages (from spacy>=2.2.2->en_core_web_lg==2.2.5) (7.4.0)\n",
            "Requirement already satisfied: srsly<1.1.0,>=1.0.2 in /usr/local/lib/python3.6/dist-packages (from spacy>=2.2.2->en_core_web_lg==2.2.5) (1.0.5)\n",
            "Requirement already satisfied: setuptools in /usr/local/lib/python3.6/dist-packages (from spacy>=2.2.2->en_core_web_lg==2.2.5) (51.1.1)\n",
            "Requirement already satisfied: blis<0.5.0,>=0.4.0 in /usr/local/lib/python3.6/dist-packages (from spacy>=2.2.2->en_core_web_lg==2.2.5) (0.4.1)\n",
            "Requirement already satisfied: requests<3.0.0,>=2.13.0 in /usr/local/lib/python3.6/dist-packages (from spacy>=2.2.2->en_core_web_lg==2.2.5) (2.23.0)\n",
            "Requirement already satisfied: preshed<3.1.0,>=3.0.2 in /usr/local/lib/python3.6/dist-packages (from spacy>=2.2.2->en_core_web_lg==2.2.5) (3.0.5)\n",
            "Requirement already satisfied: murmurhash<1.1.0,>=0.28.0 in /usr/local/lib/python3.6/dist-packages (from spacy>=2.2.2->en_core_web_lg==2.2.5) (1.0.5)\n",
            "Requirement already satisfied: cymem<2.1.0,>=2.0.2 in /usr/local/lib/python3.6/dist-packages (from spacy>=2.2.2->en_core_web_lg==2.2.5) (2.0.5)\n",
            "Requirement already satisfied: importlib-metadata>=0.20; python_version < \"3.8\" in /usr/local/lib/python3.6/dist-packages (from catalogue<1.1.0,>=0.0.7->spacy>=2.2.2->en_core_web_lg==2.2.5) (3.3.0)\n",
            "Requirement already satisfied: urllib3!=1.25.0,!=1.25.1,<1.26,>=1.21.1 in /usr/local/lib/python3.6/dist-packages (from requests<3.0.0,>=2.13.0->spacy>=2.2.2->en_core_web_lg==2.2.5) (1.24.3)\n",
            "Requirement already satisfied: chardet<4,>=3.0.2 in /usr/local/lib/python3.6/dist-packages (from requests<3.0.0,>=2.13.0->spacy>=2.2.2->en_core_web_lg==2.2.5) (3.0.4)\n",
            "Requirement already satisfied: idna<3,>=2.5 in /usr/local/lib/python3.6/dist-packages (from requests<3.0.0,>=2.13.0->spacy>=2.2.2->en_core_web_lg==2.2.5) (2.10)\n",
            "Requirement already satisfied: certifi>=2017.4.17 in /usr/local/lib/python3.6/dist-packages (from requests<3.0.0,>=2.13.0->spacy>=2.2.2->en_core_web_lg==2.2.5) (2020.12.5)\n",
            "Requirement already satisfied: zipp>=0.5 in /usr/local/lib/python3.6/dist-packages (from importlib-metadata>=0.20; python_version < \"3.8\"->catalogue<1.1.0,>=0.0.7->spacy>=2.2.2->en_core_web_lg==2.2.5) (3.4.0)\n",
            "Requirement already satisfied: typing-extensions>=3.6.4; python_version < \"3.8\" in /usr/local/lib/python3.6/dist-packages (from importlib-metadata>=0.20; python_version < \"3.8\"->catalogue<1.1.0,>=0.0.7->spacy>=2.2.2->en_core_web_lg==2.2.5) (3.7.4.3)\n",
            "Building wheels for collected packages: en-core-web-lg\n",
            "  Building wheel for en-core-web-lg (setup.py) ... \u001b[?25l\u001b[?25hdone\n",
            "  Created wheel for en-core-web-lg: filename=en_core_web_lg-2.2.5-cp36-none-any.whl size=829180945 sha256=597a86e4c96e308d3bd2dad4c8763e39b91f55a6a970ce1c5c341f81ade81439\n",
            "  Stored in directory: /tmp/pip-ephem-wheel-cache-xvaew1u_/wheels/2a/c1/a6/fc7a877b1efca9bc6a089d6f506f16d3868408f9ff89f8dbfc\n",
            "Successfully built en-core-web-lg\n",
            "Installing collected packages: en-core-web-lg\n",
            "Successfully installed en-core-web-lg-2.2.5\n",
            "\u001b[38;5;2m✔ Download and installation successful\u001b[0m\n",
            "You can now load the model via spacy.load('en_core_web_lg')\n"
          ],
          "name": "stdout"
        }
      ]
    },
    {
      "cell_type": "markdown",
      "metadata": {
        "id": "UwVPBhvtVhGK"
      },
      "source": [
        "# Loading Data "
      ]
    },
    {
      "cell_type": "code",
      "metadata": {
        "id": "OHW02QahmtxC"
      },
      "source": [
        "nlp = spacy.load('en_core_web_lg')"
      ],
      "execution_count": null,
      "outputs": []
    },
    {
      "cell_type": "code",
      "metadata": {
        "id": "z_TdDdygcvBJ"
      },
      "source": [
        "mlb = MultiLabelBinarizer()"
      ],
      "execution_count": null,
      "outputs": []
    },
    {
      "cell_type": "code",
      "metadata": {
        "id": "5Sw1W3xCMM0r"
      },
      "source": [
        "def collection_stats():\r\n",
        "  documents = reuters.fileids()\r\n",
        "  print(str(len(documents)) + \" documents\");\r\n",
        "\r\n",
        "  train_docs = list(filter(lambda doc: doc.startswith(\"train\"), documents));\r\n",
        "  print(str(len(train_docs)) + \" total train documents\");\r\n",
        " \r\n",
        "  test_docs = list(filter(lambda doc: doc.startswith(\"test\"), documents));\r\n",
        "  print(str(len(test_docs)) + \" total test documents\")\r\n",
        "\r\n",
        "  categories = reuters.categories()\r\n",
        "\r\n",
        "  print(str(len(categories)) + \" categories\");"
      ],
      "execution_count": null,
      "outputs": []
    },
    {
      "cell_type": "code",
      "metadata": {
        "colab": {
          "base_uri": "https://localhost:8080/"
        },
        "id": "M2I7cGhTM4ke",
        "outputId": "19ba5f1c-306f-4a8c-c2b6-f868e159ada4"
      },
      "source": [
        "collection_stats()"
      ],
      "execution_count": null,
      "outputs": [
        {
          "output_type": "stream",
          "text": [
            "10788 documents\n",
            "7769 total train documents\n",
            "3019 total test documents\n",
            "90 categories\n"
          ],
          "name": "stdout"
        }
      ]
    },
    {
      "cell_type": "markdown",
      "metadata": {
        "id": "kOvxseFqVRH8"
      },
      "source": [
        "# Train Test Split of data"
      ]
    },
    {
      "cell_type": "code",
      "metadata": {
        "id": "0kTdFYQLUvRc"
      },
      "source": [
        "def train_test_split():\r\n",
        "  documents = reuters.fileids()\r\n",
        "  train_docs = [document for document in documents if document.startswith(\"train\")]\r\n",
        "  test_docs = [document for document in documents if document.startswith(\"test\")]\r\n",
        "  x_train = [reuters.raw(doc_id) for doc_id in train_docs]\r\n",
        "  y_train = [reuters.raw(doc_id) for doc_id in test_docs]\r\n",
        "  x_test = mlb.fit_transform([reuters.categories(doc_id) for doc_id in train_docs])\r\n",
        "  y_test = mlb.transform([reuters.categories(doc_id) for doc_id in test_docs])\r\n",
        "  return x_train, y_train, x_test, y_test"
      ],
      "execution_count": null,
      "outputs": []
    },
    {
      "cell_type": "code",
      "metadata": {
        "id": "Z9z44DdBbB5p"
      },
      "source": [
        "x_train, x_test, y_train, y_test = train_test_split()"
      ],
      "execution_count": null,
      "outputs": []
    },
    {
      "cell_type": "markdown",
      "metadata": {
        "id": "Mjyob_3BVWzY"
      },
      "source": [
        "# Functions for getting entities and word vectors"
      ]
    },
    {
      "cell_type": "code",
      "metadata": {
        "id": "_SisnkwkjrGw"
      },
      "source": [
        "def get_entities(text):\r\n",
        "  tokens = nlp(text)\r\n",
        "  entities = [token.text for token in tokens.ents]\r\n",
        "  return entities\r\n",
        "\r\n",
        "  #for token in tokens.ents:\r\n",
        "    #print(token.text, token.label)\r\n",
        "  \"\"\" returns the entities of the input text \"\"\"\r\n",
        "\r\n",
        "  "
      ],
      "execution_count": null,
      "outputs": []
    },
    {
      "cell_type": "code",
      "metadata": {
        "id": "jdV_fk5_iEMH"
      },
      "source": [
        "def get_word_vectors(sentence):\r\n",
        "\r\n",
        "  tokens = nlp(sentence)\r\n",
        "  vector = np.sum([token.vector for token in tokens], axis= 0)\r\n",
        "  if vector.shape == ():\r\n",
        "    vector = np.random.rand(300,)\r\n",
        "  return vector\r\n",
        "\r\n"
      ],
      "execution_count": null,
      "outputs": []
    },
    {
      "cell_type": "markdown",
      "metadata": {
        "id": "G5ot4yTXTaRZ"
      },
      "source": [
        "## Build vector representations for train data"
      ]
    },
    {
      "cell_type": "code",
      "metadata": {
        "id": "x2rNBMKRgIHw",
        "colab": {
          "base_uri": "https://localhost:8080/"
        },
        "outputId": "faca5a92-13e2-4ebd-ac62-dc9d8cb825f8"
      },
      "source": [
        "# Extract entities and build vector representations for train data\r\n",
        "#get_entities(x_train[0])\r\n",
        "#get_word_vectors(' '.join(entities)).shape\r\n",
        "x_train = [get_word_vectors(' '.join(get_entities(doc))) for doc in x_train]\r\n",
        "print(np.shape(x_train))"
      ],
      "execution_count": null,
      "outputs": [
        {
          "output_type": "stream",
          "text": [
            "(7769, 300)\n"
          ],
          "name": "stdout"
        }
      ]
    },
    {
      "cell_type": "markdown",
      "metadata": {
        "id": "QC4i786hTmEc"
      },
      "source": [
        "## Build vector representations for test data"
      ]
    },
    {
      "cell_type": "code",
      "metadata": {
        "id": "hX0z7bG5IFN0",
        "colab": {
          "base_uri": "https://localhost:8080/"
        },
        "outputId": "54e25916-fcd5-4bfa-98f3-625755468700"
      },
      "source": [
        "# Extract entities and build vector representations for test data\r\n",
        "x_test = [get_word_vectors(' '.join(get_entities(doc))) for doc in x_test]\r\n",
        "print(np.shape(x_test))"
      ],
      "execution_count": null,
      "outputs": [
        {
          "output_type": "stream",
          "text": [
            "(3019, 300)\n"
          ],
          "name": "stdout"
        }
      ]
    },
    {
      "cell_type": "markdown",
      "metadata": {
        "id": "pt7UfMr1UcP6"
      },
      "source": [
        "# Naive bayes classifier"
      ]
    },
    {
      "cell_type": "code",
      "metadata": {
        "id": "5g5Lh-5-KSHN"
      },
      "source": [
        "from sklearn.naive_bayes import GaussianNB\r\n",
        "from sklearn.metrics import classification_report\r\n",
        "from sklearn.multiclass import OneVsRestClassifier"
      ],
      "execution_count": null,
      "outputs": []
    },
    {
      "cell_type": "markdown",
      "metadata": {
        "id": "OjdIcXXQTYWn"
      },
      "source": [
        "## Fit and predict using Naive bayes classifier"
      ]
    },
    {
      "cell_type": "code",
      "metadata": {
        "id": "94IteZfyLOR7",
        "colab": {
          "base_uri": "https://localhost:8080/"
        },
        "outputId": "7fe668c7-e885-40c3-a080-082319d70447"
      },
      "source": [
        "nb = OneVsRestClassifier(GaussianNB())\r\n",
        "nb.fit(x_train, y_train)"
      ],
      "execution_count": null,
      "outputs": [
        {
          "output_type": "execute_result",
          "data": {
            "text/plain": [
              "OneVsRestClassifier(estimator=GaussianNB(priors=None, var_smoothing=1e-09),\n",
              "                    n_jobs=None)"
            ]
          },
          "metadata": {
            "tags": []
          },
          "execution_count": 41
        }
      ]
    },
    {
      "cell_type": "code",
      "metadata": {
        "id": "yFNuMbslaVCG",
        "colab": {
          "base_uri": "https://localhost:8080/"
        },
        "outputId": "d251715f-0495-4538-f0dc-1fe7381a57a0"
      },
      "source": [
        "y_pred = nb.predict(x_test)\r\n",
        "print(y_pred)"
      ],
      "execution_count": null,
      "outputs": [
        {
          "output_type": "stream",
          "text": [
            "[[0 0 0 ... 0 1 0]\n",
            " [1 1 0 ... 0 0 1]\n",
            " [0 1 0 ... 0 0 0]\n",
            " ...\n",
            " [1 1 0 ... 0 0 1]\n",
            " [0 0 0 ... 1 0 0]\n",
            " [1 1 0 ... 0 0 1]]\n"
          ],
          "name": "stdout"
        }
      ]
    },
    {
      "cell_type": "markdown",
      "metadata": {
        "id": "VvyhJe8zURAm"
      },
      "source": [
        "## Print classification report"
      ]
    },
    {
      "cell_type": "code",
      "metadata": {
        "id": "1y9dFmh3adRs",
        "colab": {
          "base_uri": "https://localhost:8080/"
        },
        "outputId": "edd68906-3201-482e-d779-8353a613c64c"
      },
      "source": [
        "print(classification_report(y_true=y_test, y_pred=y_pred))"
      ],
      "execution_count": null,
      "outputs": [
        {
          "output_type": "stream",
          "text": [
            "              precision    recall  f1-score   support\n",
            "\n",
            "           0       0.34      0.89      0.49       719\n",
            "           1       0.01      0.65      0.02        23\n",
            "           2       0.05      0.36      0.09        14\n",
            "           3       0.04      0.43      0.08        30\n",
            "           4       0.04      0.83      0.08        18\n",
            "           5       0.00      0.00      0.00         1\n",
            "           6       0.05      0.78      0.10        18\n",
            "           7       0.00      0.00      0.00         2\n",
            "           8       0.00      0.00      0.00         3\n",
            "           9       0.05      0.50      0.09        28\n",
            "          10       0.02      0.61      0.04        18\n",
            "          11       0.00      0.00      0.00         1\n",
            "          12       0.05      0.34      0.08        56\n",
            "          13       0.04      0.35      0.07        20\n",
            "          14       0.00      0.00      0.00         2\n",
            "          15       0.19      0.64      0.29        28\n",
            "          16       0.00      0.00      0.00         1\n",
            "          17       0.15      0.35      0.21       189\n",
            "          18       0.00      0.00      0.00         1\n",
            "          19       0.04      0.89      0.08        44\n",
            "          20       0.00      0.25      0.00         4\n",
            "          21       0.48      0.93      0.63      1087\n",
            "          22       0.01      0.30      0.02        10\n",
            "          23       0.01      0.24      0.02        17\n",
            "          24       0.07      0.66      0.12        35\n",
            "          25       0.02      0.73      0.03        30\n",
            "          26       0.11      0.36      0.17       149\n",
            "          27       0.00      0.00      0.00         4\n",
            "          28       0.00      0.00      0.00         1\n",
            "          29       0.00      0.00      0.00         5\n",
            "          30       0.00      0.50      0.00         6\n",
            "          31       0.00      0.25      0.01         4\n",
            "          32       0.03      0.57      0.05         7\n",
            "          33       0.00      0.00      0.00         1\n",
            "          34       0.07      0.75      0.13       131\n",
            "          35       0.01      0.25      0.03        12\n",
            "          36       0.00      0.07      0.01        14\n",
            "          37       0.00      0.00      0.00         1\n",
            "          38       0.11      0.48      0.17        21\n",
            "          39       0.00      0.00      0.00         2\n",
            "          40       0.01      0.43      0.01        14\n",
            "          41       0.00      1.00      0.01         3\n",
            "          42       0.00      0.00      0.00         1\n",
            "          43       0.04      0.71      0.07        24\n",
            "          44       0.06      0.50      0.11         6\n",
            "          45       0.03      0.58      0.06        19\n",
            "          46       0.24      0.88      0.38       179\n",
            "          47       0.04      0.35      0.07        34\n",
            "          48       0.00      0.00      0.00         4\n",
            "          49       0.02      0.20      0.03        30\n",
            "          50       0.00      0.00      0.00         1\n",
            "          51       0.00      0.00      0.00         2\n",
            "          52       0.00      0.00      0.00         2\n",
            "          53       0.16      0.50      0.24         6\n",
            "          54       0.04      0.36      0.08        47\n",
            "          55       0.01      0.64      0.01        11\n",
            "          56       0.00      0.00      0.00         1\n",
            "          57       0.04      0.60      0.07        10\n",
            "          58       0.00      0.00      0.00         1\n",
            "          59       0.04      0.50      0.07        12\n",
            "          60       0.00      0.00      0.00         7\n",
            "          61       1.00      0.33      0.50         3\n",
            "          62       0.00      0.00      0.00         3\n",
            "          63       0.00      0.00      0.00         1\n",
            "          64       0.00      0.00      0.00         3\n",
            "          65       0.02      0.22      0.03         9\n",
            "          66       0.03      0.61      0.06        18\n",
            "          67       0.01      1.00      0.02         2\n",
            "          68       0.03      0.46      0.06        24\n",
            "          69       0.03      0.92      0.06        12\n",
            "          70       0.00      0.00      0.00         1\n",
            "          71       0.15      0.73      0.25        89\n",
            "          72       0.00      0.38      0.00         8\n",
            "          73       0.02      0.60      0.04        10\n",
            "          74       0.03      0.69      0.06        13\n",
            "          75       0.03      0.73      0.06        11\n",
            "          76       0.04      0.45      0.08        33\n",
            "          77       0.00      0.36      0.01        11\n",
            "          78       0.02      0.22      0.04        36\n",
            "          79       0.00      0.00      0.00         1\n",
            "          80       0.00      0.00      0.00         2\n",
            "          81       0.01      0.40      0.02         5\n",
            "          82       0.00      0.00      0.00         4\n",
            "          83       0.02      0.33      0.04        12\n",
            "          84       0.13      0.49      0.20       117\n",
            "          85       0.08      0.62      0.14        37\n",
            "          86       0.06      0.38      0.11        71\n",
            "          87       0.24      0.40      0.30        10\n",
            "          88       0.08      0.86      0.14        14\n",
            "          89       0.01      0.69      0.02        13\n",
            "\n",
            "   micro avg       0.08      0.71      0.14      3744\n",
            "   macro avg       0.05      0.37      0.07      3744\n",
            "weighted avg       0.25      0.71      0.35      3744\n",
            " samples avg       0.19      0.76      0.26      3744\n",
            "\n"
          ],
          "name": "stdout"
        },
        {
          "output_type": "stream",
          "text": [
            "/usr/local/lib/python3.6/dist-packages/sklearn/metrics/_classification.py:1272: UndefinedMetricWarning: Precision and F-score are ill-defined and being set to 0.0 in labels with no predicted samples. Use `zero_division` parameter to control this behavior.\n",
            "  _warn_prf(average, modifier, msg_start, len(result))\n",
            "/usr/local/lib/python3.6/dist-packages/sklearn/metrics/_classification.py:1272: UndefinedMetricWarning: Precision and F-score are ill-defined and being set to 0.0 in samples with no predicted labels. Use `zero_division` parameter to control this behavior.\n",
            "  _warn_prf(average, modifier, msg_start, len(result))\n"
          ],
          "name": "stderr"
        }
      ]
    },
    {
      "cell_type": "markdown",
      "metadata": {
        "id": "HID2Z2urUjww"
      },
      "source": [
        "# Logistic regression"
      ]
    },
    {
      "cell_type": "code",
      "metadata": {
        "id": "hUx6ebeLavAl"
      },
      "source": [
        "from sklearn.linear_model import LogisticRegression\r\n",
        "from sklearn.naive_bayes import GaussianNB\r\n",
        "from sklearn.metrics import classification_report\r\n",
        "from sklearn.multiclass import OneVsRestClassifier"
      ],
      "execution_count": null,
      "outputs": []
    },
    {
      "cell_type": "markdown",
      "metadata": {
        "id": "MztLv3NtUr21"
      },
      "source": [
        "## Fit and predict using Naive bayes classifier"
      ]
    },
    {
      "cell_type": "code",
      "metadata": {
        "id": "jqsinTqcbmWr",
        "colab": {
          "base_uri": "https://localhost:8080/"
        },
        "outputId": "789e405e-c1b6-4adc-f76f-6935ce987ae6"
      },
      "source": [
        "gnb = OneVsRestClassifier(GaussianNB())\r\n",
        "gnb.fit(x_train, y_train)\r\n"
      ],
      "execution_count": null,
      "outputs": [
        {
          "output_type": "execute_result",
          "data": {
            "text/plain": [
              "OneVsRestClassifier(estimator=GaussianNB(priors=None, var_smoothing=1e-09),\n",
              "                    n_jobs=None)"
            ]
          },
          "metadata": {
            "tags": []
          },
          "execution_count": 47
        }
      ]
    },
    {
      "cell_type": "code",
      "metadata": {
        "id": "CYaig82OeB7D"
      },
      "source": [
        "y_pred = gnb.predict(x_test)"
      ],
      "execution_count": null,
      "outputs": []
    },
    {
      "cell_type": "markdown",
      "metadata": {
        "id": "jBIa1MnsUwo4"
      },
      "source": [
        "## Print classification report"
      ]
    },
    {
      "cell_type": "code",
      "metadata": {
        "id": "MDfdy4H9cKE_",
        "colab": {
          "base_uri": "https://localhost:8080/"
        },
        "outputId": "1f64d4a4-b2f4-4c29-fb26-a6d5aa4a96e9"
      },
      "source": [
        "print(classification_report(y_true=y_test, y_pred=y_pred))"
      ],
      "execution_count": null,
      "outputs": [
        {
          "output_type": "stream",
          "text": [
            "              precision    recall  f1-score   support\n",
            "\n",
            "           0       0.34      0.89      0.49       719\n",
            "           1       0.01      0.65      0.02        23\n",
            "           2       0.05      0.36      0.09        14\n",
            "           3       0.04      0.43      0.08        30\n",
            "           4       0.04      0.83      0.08        18\n",
            "           5       0.00      0.00      0.00         1\n",
            "           6       0.05      0.78      0.10        18\n",
            "           7       0.00      0.00      0.00         2\n",
            "           8       0.00      0.00      0.00         3\n",
            "           9       0.05      0.50      0.09        28\n",
            "          10       0.02      0.61      0.04        18\n",
            "          11       0.00      0.00      0.00         1\n",
            "          12       0.05      0.34      0.08        56\n",
            "          13       0.04      0.35      0.07        20\n",
            "          14       0.00      0.00      0.00         2\n",
            "          15       0.19      0.64      0.29        28\n",
            "          16       0.00      0.00      0.00         1\n",
            "          17       0.15      0.35      0.21       189\n",
            "          18       0.00      0.00      0.00         1\n",
            "          19       0.04      0.89      0.08        44\n",
            "          20       0.00      0.25      0.00         4\n",
            "          21       0.48      0.93      0.63      1087\n",
            "          22       0.01      0.30      0.02        10\n",
            "          23       0.01      0.24      0.02        17\n",
            "          24       0.07      0.66      0.12        35\n",
            "          25       0.02      0.73      0.03        30\n",
            "          26       0.11      0.36      0.17       149\n",
            "          27       0.00      0.00      0.00         4\n",
            "          28       0.00      0.00      0.00         1\n",
            "          29       0.00      0.00      0.00         5\n",
            "          30       0.00      0.50      0.00         6\n",
            "          31       0.00      0.25      0.01         4\n",
            "          32       0.03      0.57      0.05         7\n",
            "          33       0.00      0.00      0.00         1\n",
            "          34       0.07      0.75      0.13       131\n",
            "          35       0.01      0.25      0.03        12\n",
            "          36       0.00      0.07      0.01        14\n",
            "          37       0.00      0.00      0.00         1\n",
            "          38       0.11      0.48      0.17        21\n",
            "          39       0.00      0.00      0.00         2\n",
            "          40       0.01      0.43      0.01        14\n",
            "          41       0.00      1.00      0.01         3\n",
            "          42       0.00      0.00      0.00         1\n",
            "          43       0.04      0.71      0.07        24\n",
            "          44       0.06      0.50      0.11         6\n",
            "          45       0.03      0.58      0.06        19\n",
            "          46       0.24      0.88      0.38       179\n",
            "          47       0.04      0.35      0.07        34\n",
            "          48       0.00      0.00      0.00         4\n",
            "          49       0.02      0.20      0.03        30\n",
            "          50       0.00      0.00      0.00         1\n",
            "          51       0.00      0.00      0.00         2\n",
            "          52       0.00      0.00      0.00         2\n",
            "          53       0.16      0.50      0.24         6\n",
            "          54       0.04      0.36      0.08        47\n",
            "          55       0.01      0.64      0.01        11\n",
            "          56       0.00      0.00      0.00         1\n",
            "          57       0.04      0.60      0.07        10\n",
            "          58       0.00      0.00      0.00         1\n",
            "          59       0.04      0.50      0.07        12\n",
            "          60       0.00      0.00      0.00         7\n",
            "          61       1.00      0.33      0.50         3\n",
            "          62       0.00      0.00      0.00         3\n",
            "          63       0.00      0.00      0.00         1\n",
            "          64       0.00      0.00      0.00         3\n",
            "          65       0.02      0.22      0.03         9\n",
            "          66       0.03      0.61      0.06        18\n",
            "          67       0.01      1.00      0.02         2\n",
            "          68       0.03      0.46      0.06        24\n",
            "          69       0.03      0.92      0.06        12\n",
            "          70       0.00      0.00      0.00         1\n",
            "          71       0.15      0.73      0.25        89\n",
            "          72       0.00      0.38      0.00         8\n",
            "          73       0.02      0.60      0.04        10\n",
            "          74       0.03      0.69      0.06        13\n",
            "          75       0.03      0.73      0.06        11\n",
            "          76       0.04      0.45      0.08        33\n",
            "          77       0.00      0.36      0.01        11\n",
            "          78       0.02      0.22      0.04        36\n",
            "          79       0.00      0.00      0.00         1\n",
            "          80       0.00      0.00      0.00         2\n",
            "          81       0.01      0.40      0.02         5\n",
            "          82       0.00      0.00      0.00         4\n",
            "          83       0.02      0.33      0.04        12\n",
            "          84       0.13      0.49      0.20       117\n",
            "          85       0.08      0.62      0.14        37\n",
            "          86       0.06      0.38      0.11        71\n",
            "          87       0.24      0.40      0.30        10\n",
            "          88       0.08      0.86      0.14        14\n",
            "          89       0.01      0.69      0.02        13\n",
            "\n",
            "   micro avg       0.08      0.71      0.14      3744\n",
            "   macro avg       0.05      0.37      0.07      3744\n",
            "weighted avg       0.25      0.71      0.35      3744\n",
            " samples avg       0.19      0.76      0.26      3744\n",
            "\n"
          ],
          "name": "stdout"
        },
        {
          "output_type": "stream",
          "text": [
            "/usr/local/lib/python3.6/dist-packages/sklearn/metrics/_classification.py:1272: UndefinedMetricWarning: Precision and F-score are ill-defined and being set to 0.0 in labels with no predicted samples. Use `zero_division` parameter to control this behavior.\n",
            "  _warn_prf(average, modifier, msg_start, len(result))\n",
            "/usr/local/lib/python3.6/dist-packages/sklearn/metrics/_classification.py:1272: UndefinedMetricWarning: Precision and F-score are ill-defined and being set to 0.0 in samples with no predicted labels. Use `zero_division` parameter to control this behavior.\n",
            "  _warn_prf(average, modifier, msg_start, len(result))\n"
          ],
          "name": "stderr"
        }
      ]
    },
    {
      "cell_type": "code",
      "metadata": {
        "colab": {
          "base_uri": "https://localhost:8080/"
        },
        "id": "pHqoZUeAgvhr",
        "outputId": "f38713de-0869-4d82-eb5a-ab7ca2a450a7"
      },
      "source": [
        "print(classification_report(y_pred = y_pred , y_true= y_test))"
      ],
      "execution_count": null,
      "outputs": [
        {
          "output_type": "stream",
          "text": [
            "              precision    recall  f1-score   support\n",
            "\n",
            "           0       0.34      0.89      0.49       719\n",
            "           1       0.01      0.65      0.02        23\n",
            "           2       0.05      0.36      0.09        14\n",
            "           3       0.04      0.43      0.08        30\n",
            "           4       0.04      0.83      0.08        18\n",
            "           5       0.00      0.00      0.00         1\n",
            "           6       0.05      0.78      0.10        18\n",
            "           7       0.00      0.00      0.00         2\n",
            "           8       0.00      0.00      0.00         3\n",
            "           9       0.05      0.50      0.09        28\n",
            "          10       0.02      0.61      0.04        18\n",
            "          11       0.00      0.00      0.00         1\n",
            "          12       0.05      0.34      0.08        56\n",
            "          13       0.04      0.35      0.07        20\n",
            "          14       0.00      0.00      0.00         2\n",
            "          15       0.19      0.64      0.29        28\n",
            "          16       0.00      0.00      0.00         1\n",
            "          17       0.15      0.35      0.21       189\n",
            "          18       0.00      0.00      0.00         1\n",
            "          19       0.04      0.89      0.08        44\n",
            "          20       0.00      0.25      0.00         4\n",
            "          21       0.48      0.93      0.63      1087\n",
            "          22       0.01      0.30      0.02        10\n",
            "          23       0.01      0.24      0.02        17\n",
            "          24       0.07      0.66      0.12        35\n",
            "          25       0.02      0.73      0.03        30\n",
            "          26       0.11      0.36      0.17       149\n",
            "          27       0.00      0.00      0.00         4\n",
            "          28       0.00      0.00      0.00         1\n",
            "          29       0.00      0.00      0.00         5\n",
            "          30       0.00      0.50      0.00         6\n",
            "          31       0.00      0.25      0.01         4\n",
            "          32       0.03      0.57      0.05         7\n",
            "          33       0.00      0.00      0.00         1\n",
            "          34       0.07      0.75      0.13       131\n",
            "          35       0.01      0.25      0.03        12\n",
            "          36       0.00      0.07      0.01        14\n",
            "          37       0.00      0.00      0.00         1\n",
            "          38       0.11      0.48      0.17        21\n",
            "          39       0.00      0.00      0.00         2\n",
            "          40       0.01      0.43      0.01        14\n",
            "          41       0.00      1.00      0.01         3\n",
            "          42       0.00      0.00      0.00         1\n",
            "          43       0.04      0.71      0.07        24\n",
            "          44       0.06      0.50      0.11         6\n",
            "          45       0.03      0.58      0.06        19\n",
            "          46       0.24      0.88      0.38       179\n",
            "          47       0.04      0.35      0.07        34\n",
            "          48       0.00      0.00      0.00         4\n",
            "          49       0.02      0.20      0.03        30\n",
            "          50       0.00      0.00      0.00         1\n",
            "          51       0.00      0.00      0.00         2\n",
            "          52       0.00      0.00      0.00         2\n",
            "          53       0.16      0.50      0.24         6\n",
            "          54       0.04      0.36      0.08        47\n",
            "          55       0.01      0.64      0.01        11\n",
            "          56       0.00      0.00      0.00         1\n",
            "          57       0.04      0.60      0.07        10\n",
            "          58       0.00      0.00      0.00         1\n",
            "          59       0.04      0.50      0.07        12\n",
            "          60       0.00      0.00      0.00         7\n",
            "          61       1.00      0.33      0.50         3\n",
            "          62       0.00      0.00      0.00         3\n",
            "          63       0.00      0.00      0.00         1\n",
            "          64       0.00      0.00      0.00         3\n",
            "          65       0.02      0.22      0.03         9\n",
            "          66       0.03      0.61      0.06        18\n",
            "          67       0.01      1.00      0.02         2\n",
            "          68       0.03      0.46      0.06        24\n",
            "          69       0.03      0.92      0.06        12\n",
            "          70       0.00      0.00      0.00         1\n",
            "          71       0.15      0.73      0.25        89\n",
            "          72       0.00      0.38      0.00         8\n",
            "          73       0.02      0.60      0.04        10\n",
            "          74       0.03      0.69      0.06        13\n",
            "          75       0.03      0.73      0.06        11\n",
            "          76       0.04      0.45      0.08        33\n",
            "          77       0.00      0.36      0.01        11\n",
            "          78       0.02      0.22      0.04        36\n",
            "          79       0.00      0.00      0.00         1\n",
            "          80       0.00      0.00      0.00         2\n",
            "          81       0.01      0.40      0.02         5\n",
            "          82       0.00      0.00      0.00         4\n",
            "          83       0.02      0.33      0.04        12\n",
            "          84       0.13      0.49      0.20       117\n",
            "          85       0.08      0.62      0.14        37\n",
            "          86       0.06      0.38      0.11        71\n",
            "          87       0.24      0.40      0.30        10\n",
            "          88       0.08      0.86      0.14        14\n",
            "          89       0.01      0.69      0.02        13\n",
            "\n",
            "   micro avg       0.08      0.71      0.14      3744\n",
            "   macro avg       0.05      0.37      0.07      3744\n",
            "weighted avg       0.25      0.71      0.35      3744\n",
            " samples avg       0.19      0.76      0.26      3744\n",
            "\n"
          ],
          "name": "stdout"
        },
        {
          "output_type": "stream",
          "text": [
            "/usr/local/lib/python3.6/dist-packages/sklearn/metrics/_classification.py:1272: UndefinedMetricWarning: Precision and F-score are ill-defined and being set to 0.0 in labels with no predicted samples. Use `zero_division` parameter to control this behavior.\n",
            "  _warn_prf(average, modifier, msg_start, len(result))\n",
            "/usr/local/lib/python3.6/dist-packages/sklearn/metrics/_classification.py:1272: UndefinedMetricWarning: Precision and F-score are ill-defined and being set to 0.0 in samples with no predicted labels. Use `zero_division` parameter to control this behavior.\n",
            "  _warn_prf(average, modifier, msg_start, len(result))\n"
          ],
          "name": "stderr"
        }
      ]
    }
  ]
}