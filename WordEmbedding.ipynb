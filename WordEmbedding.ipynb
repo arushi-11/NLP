{
  "nbformat": 4,
  "nbformat_minor": 0,
  "metadata": {
    "colab": {
      "name": "345_WordEmbedding.ipynb",
      "provenance": []
    },
    "kernelspec": {
      "name": "python3",
      "display_name": "Python 3"
    }
  },
  "cells": [
    {
      "cell_type": "markdown",
      "metadata": {
        "id": "t7Nm-_4aCxbz"
      },
      "source": [
        "**Word2Vec**\r\n"
      ]
    },
    {
      "cell_type": "code",
      "metadata": {
        "colab": {
          "base_uri": "https://localhost:8080/"
        },
        "id": "TLKrqEaJDFF3",
        "outputId": "97a9d3bf-6560-4fcc-faaa-e9c5a6396b9b"
      },
      "source": [
        "!pip install gensim"
      ],
      "execution_count": null,
      "outputs": [
        {
          "output_type": "stream",
          "text": [
            "Requirement already satisfied: gensim in /usr/local/lib/python3.6/dist-packages (3.6.0)\n",
            "Requirement already satisfied: scipy>=0.18.1 in /usr/local/lib/python3.6/dist-packages (from gensim) (1.4.1)\n",
            "Requirement already satisfied: smart-open>=1.2.1 in /usr/local/lib/python3.6/dist-packages (from gensim) (4.0.1)\n",
            "Requirement already satisfied: six>=1.5.0 in /usr/local/lib/python3.6/dist-packages (from gensim) (1.15.0)\n",
            "Requirement already satisfied: numpy>=1.11.3 in /usr/local/lib/python3.6/dist-packages (from gensim) (1.19.4)\n"
          ],
          "name": "stdout"
        }
      ]
    },
    {
      "cell_type": "code",
      "metadata": {
        "id": "m-zA2NeEDOwW"
      },
      "source": [
        "from gensim import utils\r\n",
        "\r\n",
        "with open('/text8','r') as file:\r\n",
        "  documents = file.readlines()\r\n",
        "\r\n",
        "class MyCorpus(object):\r\n",
        "    def __iter__(self): \r\n",
        "        for line in documents:\r\n",
        "            yield utils.simple_preprocess(line) "
      ],
      "execution_count": null,
      "outputs": []
    },
    {
      "cell_type": "code",
      "metadata": {
        "id": "umCItT27DYgP"
      },
      "source": [
        "import gensim.models\r\n",
        "sentences = MyCorpus()\r\n",
        "skipGramModel = gensim.models.Word2Vec(sentences=sentences,\r\n",
        "                                       sg = 1,   #using skipgram model\r\n",
        "                                       window = 10,  #window size\r\n",
        "                                       min_count = 5,\r\n",
        "                                       workers=16,\r\n",
        "                                       iter = 20)  #no. of iteration\r\n"
      ],
      "execution_count": null,
      "outputs": []
    },
    {
      "cell_type": "code",
      "metadata": {
        "colab": {
          "base_uri": "https://localhost:8080/"
        },
        "id": "p4mhEWbTFY3v",
        "outputId": "fa98d6ca-e101-40dc-b991-f2d2b4e815a8"
      },
      "source": [
        "len(skipGramModel.wv.vocab.keys())"
      ],
      "execution_count": null,
      "outputs": [
        {
          "output_type": "execute_result",
          "data": {
            "text/plain": [
              "17395"
            ]
          },
          "metadata": {
            "tags": []
          },
          "execution_count": 11
        }
      ]
    },
    {
      "cell_type": "code",
      "metadata": {
        "colab": {
          "base_uri": "https://localhost:8080/"
        },
        "id": "GWwq6NFKFesy",
        "outputId": "1d48bdb1-758a-4aec-bd70-1d3078a25183"
      },
      "source": [
        "# get vector for a word\r\n",
        "skipGramModel.wv.get_vector('king')"
      ],
      "execution_count": null,
      "outputs": [
        {
          "output_type": "execute_result",
          "data": {
            "text/plain": [
              "array([-0.25154716,  0.11122275,  0.08023843, -0.15845667, -0.19968906,\n",
              "       -0.25520527,  0.17078948, -0.03151894,  0.1167479 ,  0.18606798,\n",
              "        0.14881194, -0.35916936,  0.13887939,  0.3144067 , -0.24981536,\n",
              "        0.25674242, -0.04364807,  0.01683225, -0.082005  , -0.2899985 ,\n",
              "        0.06956702,  0.21771039, -0.01313746,  0.5618694 , -0.11162247,\n",
              "        0.13348585,  0.10954976,  0.45400184,  0.05080215, -0.14346685,\n",
              "        0.01601198, -0.2898161 , -0.2160228 , -0.17894384,  0.1742992 ,\n",
              "        0.56780314, -0.37008432, -0.0494902 , -0.43504208, -0.24921505,\n",
              "        0.23258558, -0.33362234, -0.15536347, -0.1693562 , -0.09891236,\n",
              "        0.02596889, -0.24399832,  0.5531067 ,  0.09250414,  0.03006632,\n",
              "        0.46304765, -0.23936415,  0.1423821 ,  0.10192932,  0.24717163,\n",
              "        0.36879358,  0.21657734,  0.13671212,  0.383496  ,  0.40722457,\n",
              "        0.04152167, -0.22301367, -0.15124558,  0.11889025, -0.15663794,\n",
              "        0.3841928 ,  0.17892426,  0.02511705,  0.26275337,  0.1586664 ,\n",
              "       -0.38827923, -0.15570506, -0.04294107, -0.04001745,  0.3027204 ,\n",
              "        0.07418042, -0.28639868, -0.3735536 ,  0.00271881, -0.08227362,\n",
              "       -0.27153844,  0.11638888,  0.14551678, -0.5194084 , -0.23198567,\n",
              "       -0.24120244, -0.26323062, -0.05289344,  0.15510872, -0.02539035,\n",
              "        0.0519432 , -0.13405332, -0.04350632,  0.4815333 ,  0.25261128,\n",
              "       -0.07356595,  0.21192059,  0.17687143, -0.06054577,  0.38822404],\n",
              "      dtype=float32)"
            ]
          },
          "metadata": {
            "tags": []
          },
          "execution_count": 12
        }
      ]
    },
    {
      "cell_type": "code",
      "metadata": {
        "colab": {
          "base_uri": "https://localhost:8080/"
        },
        "id": "S7UEXypkFxkP",
        "outputId": "1f9a69f9-33ee-4e79-d252-f4b8665be207"
      },
      "source": [
        "skipGramModel.wv.most_similar('king',topn=2)"
      ],
      "execution_count": null,
      "outputs": [
        {
          "output_type": "execute_result",
          "data": {
            "text/plain": [
              "[('abacus', 0.9995315670967102), ('ideological', 0.999492347240448)]"
            ]
          },
          "metadata": {
            "tags": []
          },
          "execution_count": 13
        }
      ]
    },
    {
      "cell_type": "code",
      "metadata": {
        "colab": {
          "base_uri": "https://localhost:8080/"
        },
        "id": "Qq9FV7tyF1S6",
        "outputId": "395d7f4b-354f-4dee-b3ac-e2b12c59b3eb"
      },
      "source": [
        "# get vector for a word\r\n",
        "skipGramModel.wv.get_vector('people')"
      ],
      "execution_count": null,
      "outputs": [
        {
          "output_type": "execute_result",
          "data": {
            "text/plain": [
              "array([-0.5354395 , -0.12491888,  0.18063395, -0.2357015 , -0.32207063,\n",
              "       -0.5117964 ,  0.30712497, -0.08916464, -0.10886166,  0.39082924,\n",
              "        0.38411328, -0.71986866,  0.1473692 ,  0.4750508 , -0.09262609,\n",
              "        0.54703736,  0.06605744, -0.12034511,  0.04319972, -0.6764331 ,\n",
              "        0.16143656,  0.07412973, -0.34223798,  1.4271933 , -0.2974311 ,\n",
              "        0.5476522 ,  0.18338908,  0.829373  , -0.4259876 , -0.46193862,\n",
              "        0.3393947 , -0.38106614, -0.05394178, -0.2819444 ,  0.00597045,\n",
              "        1.2137169 , -0.98542213,  0.0847763 , -0.5983722 , -0.34945637,\n",
              "        0.25178745, -0.5654088 , -0.07687841, -0.1364263 ,  0.33946502,\n",
              "        0.07694826, -0.539807  ,  1.014224  ,  0.16460916, -0.09303936,\n",
              "        0.782001  , -0.12480249,  0.31449798,  0.02552851,  0.29085067,\n",
              "        0.6314445 ,  0.40081105,  0.34568056,  0.6972753 ,  1.0541614 ,\n",
              "       -0.20516571, -0.6791266 , -0.5438484 ,  0.36041123, -0.33351138,\n",
              "        0.5392374 , -0.00950173,  0.09161734,  0.5730094 ,  0.36429027,\n",
              "       -0.5250621 , -0.07101947, -0.29641852, -0.3381235 ,  0.5861783 ,\n",
              "        0.21818025, -0.19494672, -0.6630132 , -0.10956659, -0.25708303,\n",
              "       -0.37836474,  0.13006656,  0.41865486, -0.963362  , -0.29626733,\n",
              "       -0.3505166 , -0.34138554, -0.29143098,  0.56900555, -0.0973373 ,\n",
              "        0.11942135, -0.12215637,  0.17300284,  0.78475523,  0.3849772 ,\n",
              "       -0.16983452,  0.37785292,  0.3889732 , -0.06450398,  0.9425646 ],\n",
              "      dtype=float32)"
            ]
          },
          "metadata": {
            "tags": []
          },
          "execution_count": 15
        }
      ]
    },
    {
      "cell_type": "code",
      "metadata": {
        "id": "pcGXUJWYLMPw"
      },
      "source": [
        "skipGramModel.wv.most_similar('people',topn=2)"
      ],
      "execution_count": null,
      "outputs": []
    },
    {
      "cell_type": "markdown",
      "metadata": {
        "id": "uZxapEq7Mk7V"
      },
      "source": [
        "**WORD SIMILARITY for SKIPGRAM MODEL**"
      ]
    },
    {
      "cell_type": "code",
      "metadata": {
        "colab": {
          "base_uri": "https://localhost:8080/"
        },
        "id": "Sc-g3eL0bSJR",
        "outputId": "792c8956-1e2d-4813-b65c-21f4568fea9c"
      },
      "source": [
        "!pip install sklearn\r\n",
        "!pip install gensim\r\n",
        "from gensim import utils\r\n",
        "import gensim.models\r\n",
        "import os\r\n",
        "import gensim\r\n",
        "from gensim import models\r\n",
        "from gensim.models import Word2Vec, KeyedVectors\r\n",
        "#from cltk.vector.word2vec import get_sims"
      ],
      "execution_count": null,
      "outputs": [
        {
          "output_type": "stream",
          "text": [
            "Requirement already satisfied: sklearn in /usr/local/lib/python3.6/dist-packages (0.0)\n",
            "Requirement already satisfied: scikit-learn in /usr/local/lib/python3.6/dist-packages (from sklearn) (0.22.2.post1)\n",
            "Requirement already satisfied: scipy>=0.17.0 in /usr/local/lib/python3.6/dist-packages (from scikit-learn->sklearn) (1.4.1)\n",
            "Requirement already satisfied: numpy>=1.11.0 in /usr/local/lib/python3.6/dist-packages (from scikit-learn->sklearn) (1.19.4)\n",
            "Requirement already satisfied: joblib>=0.11 in /usr/local/lib/python3.6/dist-packages (from scikit-learn->sklearn) (1.0.0)\n",
            "Requirement already satisfied: gensim in /usr/local/lib/python3.6/dist-packages (3.6.0)\n",
            "Requirement already satisfied: smart-open>=1.2.1 in /usr/local/lib/python3.6/dist-packages (from gensim) (4.0.1)\n",
            "Requirement already satisfied: scipy>=0.18.1 in /usr/local/lib/python3.6/dist-packages (from gensim) (1.4.1)\n",
            "Requirement already satisfied: numpy>=1.11.3 in /usr/local/lib/python3.6/dist-packages (from gensim) (1.19.4)\n",
            "Requirement already satisfied: six>=1.5.0 in /usr/local/lib/python3.6/dist-packages (from gensim) (1.15.0)\n"
          ],
          "name": "stdout"
        }
      ]
    },
    {
      "cell_type": "code",
      "metadata": {
        "id": "H1XKdYdTw5gt"
      },
      "source": [
        "from gensim import utils\r\n",
        "\r\n",
        "with open('/content/drive/MyDrive/NLP- Assignments/wordsim_similarity_goldstandard.txt','r') as file:\r\n",
        "  documents = file.readlines()\r\n",
        "\r\n",
        "class MyCorpus(object):\r\n",
        "    def __iter__(self): \r\n",
        "        for line in documents:\r\n",
        "            yield utils.simple_preprocess(line)"
      ],
      "execution_count": null,
      "outputs": []
    },
    {
      "cell_type": "code",
      "metadata": {
        "id": "aii9SpGBw-Z9"
      },
      "source": [
        "import gensim.models\r\n",
        "sentences = MyCorpus()\r\n",
        "model = gensim.models.Word2Vec(sentences=sentences,\r\n",
        "                                       sg = 1,\r\n",
        "                                       window = 10,\r\n",
        "                                       min_count = 4,\r\n",
        "                                       workers=16,\r\n",
        "                                       iter = 100)"
      ],
      "execution_count": null,
      "outputs": []
    },
    {
      "cell_type": "code",
      "metadata": {
        "colab": {
          "base_uri": "https://localhost:8080/"
        },
        "id": "zYDEzQ_jxIW6",
        "outputId": "5170287f-5dfa-4dec-a540-b9c7a234a45b"
      },
      "source": [
        "!pip install sklearn"
      ],
      "execution_count": null,
      "outputs": [
        {
          "output_type": "stream",
          "text": [
            "Requirement already satisfied: sklearn in /usr/local/lib/python3.6/dist-packages (0.0)\n",
            "Requirement already satisfied: scikit-learn in /usr/local/lib/python3.6/dist-packages (from sklearn) (0.24.0)\n",
            "Requirement already satisfied: joblib>=0.11 in /usr/local/lib/python3.6/dist-packages (from scikit-learn->sklearn) (1.0.0)\n",
            "Requirement already satisfied: numpy>=1.13.3 in /usr/local/lib/python3.6/dist-packages (from scikit-learn->sklearn) (1.19.4)\n",
            "Requirement already satisfied: scipy>=0.19.1 in /usr/local/lib/python3.6/dist-packages (from scikit-learn->sklearn) (1.4.1)\n",
            "Requirement already satisfied: threadpoolctl>=2.0.0 in /usr/local/lib/python3.6/dist-packages (from scikit-learn->sklearn) (2.1.0)\n"
          ],
          "name": "stdout"
        }
      ]
    },
    {
      "cell_type": "code",
      "metadata": {
        "colab": {
          "base_uri": "https://localhost:8080/"
        },
        "id": "zc-eizfaxMGY",
        "outputId": "283349b2-cee1-4c51-f352-81e4cbca9049"
      },
      "source": [
        "from sklearn.metrics.pairwise import cosine_similarity\r\n",
        "\r\n",
        "def get_word_similarity(word_1,word_2,model):\r\n",
        "  word_1_vector = model.wv.get_vector(word_1)\r\n",
        "  word_2_vector = model.wv.get_vector(word_2)\r\n",
        "\r\n",
        "  similarity = cosine_similarity(word_1_vector.reshape(1,-1),word_2_vector.reshape(1,-1))[0][0]\r\n",
        "  return similarity\r\n",
        "\r\n",
        "#def get_word_similarity(word_1,word_2,model):\r\n",
        " # try:\r\n",
        "  #  word_1_vector = model.get_vector(word_1)\r\n",
        "  #  word_2_vector = model.get_vector(word_2)\r\n",
        " # except:\r\n",
        " #   return None \r\n",
        "\r\n",
        "\r\n",
        "print('Similarity between {} and {} is {}'.format('tiger','tiger',get_word_similarity('tiger','tiger',model)))\r\n",
        "print('Similarity between {} and {} is {}'.format('tiger','car',get_word_similarity('tiger','car',model)))\r\n"
      ],
      "execution_count": null,
      "outputs": [
        {
          "output_type": "stream",
          "text": [
            "Similarity between tiger and tiger is 0.9999999403953552\n",
            "Similarity between tiger and car is 0.0292735006660223\n"
          ],
          "name": "stdout"
        }
      ]
    },
    {
      "cell_type": "markdown",
      "metadata": {
        "id": "OcXg4PG5z1Uv"
      },
      "source": [
        "**WORD SIMILARITY for CBOW MODEL**"
      ]
    },
    {
      "cell_type": "code",
      "metadata": {
        "id": "Qkzx4Waj0P48"
      },
      "source": [
        "from gensim import utils\r\n",
        "\r\n",
        "with open('/content/drive/MyDrive/NLP- Assignments/wordsim_similarity_goldstandard.txt','r') as file:\r\n",
        "  documents = file.readlines()\r\n",
        "\r\n",
        "class MyCorpus(object):\r\n",
        "    def __iter__(self): \r\n",
        "        for line in documents:\r\n",
        "            yield utils.simple_preprocess(line)"
      ],
      "execution_count": null,
      "outputs": []
    },
    {
      "cell_type": "code",
      "metadata": {
        "id": "UFQSOtrf0Tcp"
      },
      "source": [
        "import gensim.models\r\n",
        "sentences = MyCorpus()\r\n",
        "\r\n",
        "#sg ({0, 1}, optional) – Training algorithm: 1 for skip-gram; otherwise CBOW\r\n",
        "\r\n",
        "model = gensim.models.Word2Vec(sentences=sentences,\r\n",
        "                                       sg = 0,\r\n",
        "                                       window = 10,\r\n",
        "                                       min_count = 4,\r\n",
        "                                       workers=16,\r\n",
        "                                       iter = 100)"
      ],
      "execution_count": null,
      "outputs": []
    },
    {
      "cell_type": "code",
      "metadata": {
        "colab": {
          "base_uri": "https://localhost:8080/"
        },
        "id": "WZTT0ibd0-xT",
        "outputId": "db237280-586d-4e20-8218-f54bf6233b2b"
      },
      "source": [
        "from sklearn.metrics.pairwise import cosine_similarity\r\n",
        "\r\n",
        "def get_word_similarity(word_1,word_2,model):\r\n",
        "  word_1_vector = model.wv.get_vector(word_1)\r\n",
        "  word_2_vector = model.wv.get_vector(word_2)\r\n",
        "\r\n",
        "  similarity = cosine_similarity(word_1_vector.reshape(1,-1),word_2_vector.reshape(1,-1))[0][0]\r\n",
        "  return similarity\r\n",
        "\r\n",
        "#def get_word_similarity(word_1,word_2,model):\r\n",
        " # try:\r\n",
        "  #  word_1_vector = model.get_vector(word_1)\r\n",
        "  #  word_2_vector = model.get_vector(word_2)\r\n",
        " # except:\r\n",
        "  #  return None \r\n",
        "\r\n",
        "\r\n",
        "print('Similarity between {} and {} is {}'.format('tiger','tiger',get_word_similarity('tiger','tiger',model)))\r\n",
        "print('Similarity between {} and {} is {}'.format('tiger','car',get_word_similarity('tiger','car',model)))"
      ],
      "execution_count": null,
      "outputs": [
        {
          "output_type": "stream",
          "text": [
            "Similarity between tiger and tiger is 0.9999999403953552\n",
            "Similarity between tiger and car is 0.0292735006660223\n"
          ],
          "name": "stdout"
        }
      ]
    },
    {
      "cell_type": "markdown",
      "metadata": {
        "id": "u4ZI4j9E1idh"
      },
      "source": [
        "**FASTTEXT WORD EMBEDDING** //SKIPGRAM MODEL\r\n"
      ]
    },
    {
      "cell_type": "code",
      "metadata": {
        "colab": {
          "base_uri": "https://localhost:8080/"
        },
        "id": "UkRBbIN22Pn0",
        "outputId": "56761e8a-7a19-44ce-f9b2-cf4b720ba2f4"
      },
      "source": [
        "!pip install fasttext"
      ],
      "execution_count": null,
      "outputs": [
        {
          "output_type": "stream",
          "text": [
            "Collecting fasttext\n",
            "\u001b[?25l  Downloading https://files.pythonhosted.org/packages/f8/85/e2b368ab6d3528827b147fdb814f8189acc981a4bc2f99ab894650e05c40/fasttext-0.9.2.tar.gz (68kB)\n",
            "\r\u001b[K     |████▊                           | 10kB 19.8MB/s eta 0:00:01\r\u001b[K     |█████████▌                      | 20kB 21.4MB/s eta 0:00:01\r\u001b[K     |██████████████▎                 | 30kB 11.7MB/s eta 0:00:01\r\u001b[K     |███████████████████             | 40kB 8.8MB/s eta 0:00:01\r\u001b[K     |███████████████████████▉        | 51kB 4.5MB/s eta 0:00:01\r\u001b[K     |████████████████████████████▋   | 61kB 5.1MB/s eta 0:00:01\r\u001b[K     |████████████████████████████████| 71kB 3.7MB/s \n",
            "\u001b[?25hRequirement already satisfied: pybind11>=2.2 in /usr/local/lib/python3.6/dist-packages (from fasttext) (2.6.1)\n",
            "Requirement already satisfied: setuptools>=0.7.0 in /usr/local/lib/python3.6/dist-packages (from fasttext) (51.1.1)\n",
            "Requirement already satisfied: numpy in /usr/local/lib/python3.6/dist-packages (from fasttext) (1.19.4)\n",
            "Building wheels for collected packages: fasttext\n",
            "  Building wheel for fasttext (setup.py) ... \u001b[?25l\u001b[?25hdone\n",
            "  Created wheel for fasttext: filename=fasttext-0.9.2-cp36-cp36m-linux_x86_64.whl size=3040568 sha256=1cff83f97183cd2042ce1c6b2d1f2ab7f4911b44f283203e2c059a4a729c69d3\n",
            "  Stored in directory: /root/.cache/pip/wheels/98/ba/7f/b154944a1cf5a8cee91c154b75231136cc3a3321ab0e30f592\n",
            "Successfully built fasttext\n",
            "Installing collected packages: fasttext\n",
            "Successfully installed fasttext-0.9.2\n"
          ],
          "name": "stdout"
        }
      ]
    },
    {
      "cell_type": "code",
      "metadata": {
        "id": "ctWUHkHZ3U3l"
      },
      "source": [
        "import fasttext\r\n",
        "fassttext_model = fasttext.train_unsupervised(input = '/content/drive/MyDrive/NLP- Assignments/text8',\r\n",
        "                                              ws = 5,\r\n",
        "                                              model = 'skipgram',\r\n",
        "                                              dim = 50,\r\n",
        "                                              epoch = 5)"
      ],
      "execution_count": null,
      "outputs": []
    },
    {
      "cell_type": "code",
      "metadata": {
        "colab": {
          "base_uri": "https://localhost:8080/"
        },
        "id": "5UXaTT0w8XgY",
        "outputId": "e3d97afc-4bea-4ecf-d23f-9c9e05cbd8d9"
      },
      "source": [
        "from sklearn.metrics.pairwise import cosine_similarity\r\n",
        "\r\n",
        "def get_word_similarity(word_1,word_2,model):\r\n",
        "  word_1_vector = fassttext_model.get_word_vector(word_1)\r\n",
        "  word_2_vector = fassttext_model.get_word_vector(word_2)\r\n",
        "\r\n",
        "  similarity = cosine_similarity(word_1_vector.reshape(1,-1),word_2_vector.reshape(1,-1))[0][0]\r\n",
        "  return similarity\r\n",
        "\r\n",
        "\r\n",
        "print('Similarity between {} and {} is {}'.format('complete','use',get_word_similarity('complete','use',fassttext_model)))\r\n",
        "print('Similarity between {} and {} is {}'.format('complete','abuse',get_word_similarity('complete','abuse',fassttext_model)))\r\n"
      ],
      "execution_count": null,
      "outputs": [
        {
          "output_type": "stream",
          "text": [
            "Similarity between complete and use is 0.4101015031337738\n",
            "Similarity between complete and abuse is 0.20882216095924377\n"
          ],
          "name": "stdout"
        }
      ]
    },
    {
      "cell_type": "markdown",
      "metadata": {
        "id": "ixUWz7ah9iGB"
      },
      "source": [
        "**FASTTEXT WORD EMBEDDING** //CBOW MODEL"
      ]
    },
    {
      "cell_type": "code",
      "metadata": {
        "id": "rvrNDxLW9kaC"
      },
      "source": [
        "import fasttext\r\n",
        "fassttext_model = fasttext.train_unsupervised(input = '/content/drive/MyDrive/NLP- Assignments/text8',\r\n",
        "                                              ws = 5,\r\n",
        "                                              model = 'cbow',\r\n",
        "                                              dim = 50,\r\n",
        "                                              epoch = 5)"
      ],
      "execution_count": null,
      "outputs": []
    },
    {
      "cell_type": "code",
      "metadata": {
        "colab": {
          "base_uri": "https://localhost:8080/"
        },
        "id": "mrDi5qAZBSFu",
        "outputId": "6eaf38c6-7083-408f-fa9a-5b5075f0beb5"
      },
      "source": [
        "print(fassttext_model)"
      ],
      "execution_count": null,
      "outputs": [
        {
          "output_type": "stream",
          "text": [
            "<fasttext.FastText._FastText object at 0x7fc7dbcc07f0>\n"
          ],
          "name": "stdout"
        }
      ]
    },
    {
      "cell_type": "code",
      "metadata": {
        "colab": {
          "base_uri": "https://localhost:8080/"
        },
        "id": "Mbg_T5_hA1K1",
        "outputId": "d16ace7e-5aa5-4d4e-b841-0fb165222b2c"
      },
      "source": [
        "from sklearn.metrics.pairwise import cosine_similarity\r\n",
        "\r\n",
        "def get_word_similarity(word_1,word_2,model):\r\n",
        "  word_1_vector = fassttext_model.get_word_vector(word_1)\r\n",
        "  word_2_vector = fassttext_model.get_word_vector(word_2)\r\n",
        "\r\n",
        "  similarity = cosine_similarity(word_1_vector.reshape(1,-1),word_2_vector.reshape(1,-1))[0][0]\r\n",
        "  return similarity\r\n",
        "\r\n",
        "\r\n",
        "print('Similarity between {} and {} is {}'.format('complete','use',get_word_similarity('complete','use',fassttext_model)))\r\n",
        "print('Similarity between {} and {} is {}'.format('complete','abuse',get_word_similarity('complete','abuse',fassttext_model)))\r\n"
      ],
      "execution_count": null,
      "outputs": [
        {
          "output_type": "stream",
          "text": [
            "Similarity between complete and use is 0.15925776958465576\n",
            "Similarity between complete and abuse is 0.03380376845598221\n"
          ],
          "name": "stdout"
        }
      ]
    },
    {
      "cell_type": "markdown",
      "metadata": {
        "id": "T7LCUgo0A5o7"
      },
      "source": [
        "**Spearman Correlation coefficient**"
      ]
    },
    {
      "cell_type": "markdown",
      "metadata": {
        "id": "uzrdDE2SBebJ"
      },
      "source": [
        "**the cosine similarity scores**"
      ]
    },
    {
      "cell_type": "code",
      "metadata": {
        "colab": {
          "base_uri": "https://localhost:8080/"
        },
        "id": "fF9pwMdpBm5g",
        "outputId": "c06663d1-b52c-4aa3-e9ef-bfd6764bf97e"
      },
      "source": [
        "!pip install sklearn\r\n",
        "!pip install gensim"
      ],
      "execution_count": 20,
      "outputs": [
        {
          "output_type": "stream",
          "text": [
            "Requirement already satisfied: sklearn in /usr/local/lib/python3.6/dist-packages (0.0)\n",
            "Requirement already satisfied: scikit-learn in /usr/local/lib/python3.6/dist-packages (from sklearn) (0.22.2.post1)\n",
            "Requirement already satisfied: joblib>=0.11 in /usr/local/lib/python3.6/dist-packages (from scikit-learn->sklearn) (1.0.0)\n",
            "Requirement already satisfied: scipy>=0.17.0 in /usr/local/lib/python3.6/dist-packages (from scikit-learn->sklearn) (1.4.1)\n",
            "Requirement already satisfied: numpy>=1.11.0 in /usr/local/lib/python3.6/dist-packages (from scikit-learn->sklearn) (1.19.5)\n",
            "Requirement already satisfied: gensim in /usr/local/lib/python3.6/dist-packages (3.6.0)\n",
            "Requirement already satisfied: scipy>=0.18.1 in /usr/local/lib/python3.6/dist-packages (from gensim) (1.4.1)\n",
            "Requirement already satisfied: smart-open>=1.2.1 in /usr/local/lib/python3.6/dist-packages (from gensim) (4.1.0)\n",
            "Requirement already satisfied: numpy>=1.11.3 in /usr/local/lib/python3.6/dist-packages (from gensim) (1.19.5)\n",
            "Requirement already satisfied: six>=1.5.0 in /usr/local/lib/python3.6/dist-packages (from gensim) (1.15.0)\n"
          ],
          "name": "stdout"
        }
      ]
    },
    {
      "cell_type": "code",
      "metadata": {
        "id": "e6887MPGCi1T"
      },
      "source": [
        "import pandas as pd\r\n",
        "import io"
      ],
      "execution_count": 25,
      "outputs": []
    },
    {
      "cell_type": "code",
      "metadata": {
        "colab": {
          "base_uri": "https://localhost:8080/"
        },
        "id": "YbGwCVUHApWX",
        "outputId": "7703c722-9b3b-499e-b809-53b114e632e6"
      },
      "source": [
        "!wget http://alfonseca.org/pubs/ws353simrel.tar.gz -O ws353simre.gz\r\n",
        "!gzip -d ws353simre.gz -f"
      ],
      "execution_count": 14,
      "outputs": [
        {
          "output_type": "stream",
          "text": [
            "--2021-01-12 05:12:47--  http://alfonseca.org/pubs/ws353simrel.tar.gz\n",
            "Resolving alfonseca.org (alfonseca.org)... 162.215.249.67\n",
            "Connecting to alfonseca.org (alfonseca.org)|162.215.249.67|:80... connected.\n",
            "HTTP request sent, awaiting response... 200 OK\n",
            "Length: 5460 (5.3K) [application/x-gzip]\n",
            "Saving to: ‘ws353simre.gz’\n",
            "\n",
            "ws353simre.gz       100%[===================>]   5.33K  --.-KB/s    in 0s      \n",
            "\n",
            "2021-01-12 05:12:47 (299 MB/s) - ‘ws353simre.gz’ saved [5460/5460]\n",
            "\n"
          ],
          "name": "stdout"
        }
      ]
    },
    {
      "cell_type": "code",
      "metadata": {
        "colab": {
          "resources": {
            "http://localhost:8080/nbextensions/google.colab/files.js": {
              "data": "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",
              "ok": true,
              "headers": [
                [
                  "content-type",
                  "application/javascript"
                ]
              ],
              "status": 200,
              "status_text": ""
            }
          },
          "base_uri": "https://localhost:8080/",
          "height": 73
        },
        "id": "TixSWlstAtJL",
        "outputId": "f1443777-d119-4acb-f9bf-bbf201501d98"
      },
      "source": [
        "from google.colab import files\r\n",
        "uploaded = files.upload()"
      ],
      "execution_count": 46,
      "outputs": [
        {
          "output_type": "display_data",
          "data": {
            "text/html": [
              "\n",
              "     <input type=\"file\" id=\"files-56b6b775-4d8f-496b-be09-80dfeab20820\" name=\"files[]\" multiple disabled\n",
              "        style=\"border:none\" />\n",
              "     <output id=\"result-56b6b775-4d8f-496b-be09-80dfeab20820\">\n",
              "      Upload widget is only available when the cell has been executed in the\n",
              "      current browser session. Please rerun this cell to enable.\n",
              "      </output>\n",
              "      <script src=\"/nbextensions/google.colab/files.js\"></script> "
            ],
            "text/plain": [
              "<IPython.core.display.HTML object>"
            ]
          },
          "metadata": {
            "tags": []
          }
        },
        {
          "output_type": "stream",
          "text": [
            "Saving wordsim_similarity_goldstandard.txt to wordsim_similarity_goldstandard (3).txt\n"
          ],
          "name": "stdout"
        }
      ]
    },
    {
      "cell_type": "code",
      "metadata": {
        "id": "VGoZcmhwH39Y"
      },
      "source": [
        "import pandas as pd\r\n",
        "import io\r\n",
        "df2 = pd.read_csv(io.BytesIO(uploaded['wordsim_similarity_goldstandard.txt']), sep='\\t')"
      ],
      "execution_count": 47,
      "outputs": []
    },
    {
      "cell_type": "code",
      "metadata": {
        "colab": {
          "base_uri": "https://localhost:8080/",
          "height": 171
        },
        "id": "UgwobdGkIbsN",
        "outputId": "6120a6a5-a674-4db0-cabc-5cdf3aeee68c"
      },
      "source": [
        "df2.head(4)"
      ],
      "execution_count": 48,
      "outputs": [
        {
          "output_type": "execute_result",
          "data": {
            "text/html": [
              "<div>\n",
              "<style scoped>\n",
              "    .dataframe tbody tr th:only-of-type {\n",
              "        vertical-align: middle;\n",
              "    }\n",
              "\n",
              "    .dataframe tbody tr th {\n",
              "        vertical-align: top;\n",
              "    }\n",
              "\n",
              "    .dataframe thead th {\n",
              "        text-align: right;\n",
              "    }\n",
              "</style>\n",
              "<table border=\"1\" class=\"dataframe\">\n",
              "  <thead>\n",
              "    <tr style=\"text-align: right;\">\n",
              "      <th></th>\n",
              "      <th>word1</th>\n",
              "      <th>word2</th>\n",
              "      <th>value</th>\n",
              "    </tr>\n",
              "  </thead>\n",
              "  <tbody>\n",
              "    <tr>\n",
              "      <th>0</th>\n",
              "      <td>tiger</td>\n",
              "      <td>tiger</td>\n",
              "      <td>10.00</td>\n",
              "    </tr>\n",
              "    <tr>\n",
              "      <th>1</th>\n",
              "      <td>plane</td>\n",
              "      <td>car</td>\n",
              "      <td>5.77</td>\n",
              "    </tr>\n",
              "    <tr>\n",
              "      <th>2</th>\n",
              "      <td>train</td>\n",
              "      <td>car</td>\n",
              "      <td>6.31</td>\n",
              "    </tr>\n",
              "    <tr>\n",
              "      <th>3</th>\n",
              "      <td>television</td>\n",
              "      <td>radio</td>\n",
              "      <td>6.77</td>\n",
              "    </tr>\n",
              "  </tbody>\n",
              "</table>\n",
              "</div>"
            ],
            "text/plain": [
              "        word1  word2  value\n",
              "0       tiger  tiger  10.00\n",
              "1       plane    car   5.77\n",
              "2       train    car   6.31\n",
              "3  television  radio   6.77"
            ]
          },
          "metadata": {
            "tags": []
          },
          "execution_count": 48
        }
      ]
    },
    {
      "cell_type": "code",
      "metadata": {
        "id": "djxsWQ9XItUg"
      },
      "source": [
        "word1 = df2['word1']\r\n",
        "word2 = df2['word2']\r\n",
        "referenceVal = df2['value']"
      ],
      "execution_count": 50,
      "outputs": []
    },
    {
      "cell_type": "code",
      "metadata": {
        "id": "Yo5NLLBgJG2Z"
      },
      "source": [
        "from gensim import utils\r\n",
        "\r\n",
        "with open('/content/ws353simre','r') as file:\r\n",
        "  documents = file.readlines()\r\n",
        "\r\n",
        "class MyCorpus(object):\r\n",
        "    def __iter__(self): \r\n",
        "        for line in documents:\r\n",
        "            yield utils.simple_preprocess(line)"
      ],
      "execution_count": 51,
      "outputs": []
    },
    {
      "cell_type": "code",
      "metadata": {
        "id": "9Ud15AaxJLBV"
      },
      "source": [
        "import gensim.models\r\n",
        "sentences = MyCorpus()\r\n",
        "skipGramModel = gensim.models.Word2Vec(sentences=sentences,\r\n",
        "                                       sg = 1,\r\n",
        "                                       window = 10,\r\n",
        "                                       size=100,\r\n",
        "                                       min_count = 5,\r\n",
        "                                       workers=16,\r\n",
        "                                       iter = 50)"
      ],
      "execution_count": 52,
      "outputs": []
    },
    {
      "cell_type": "code",
      "metadata": {
        "colab": {
          "base_uri": "https://localhost:8080/"
        },
        "id": "Qfs9RluiJMzO",
        "outputId": "307daa15-8fe0-4388-a07b-4c8865b30d26"
      },
      "source": [
        "len(skipGramModel.wv.vocab.keys())"
      ],
      "execution_count": 53,
      "outputs": [
        {
          "output_type": "execute_result",
          "data": {
            "text/plain": [
              "236"
            ]
          },
          "metadata": {
            "tags": []
          },
          "execution_count": 53
        }
      ]
    },
    {
      "cell_type": "code",
      "metadata": {
        "colab": {
          "base_uri": "https://localhost:8080/"
        },
        "id": "uVy6CecJJSO8",
        "outputId": "f38ea3f5-4235-4f20-d38a-11d78286349d"
      },
      "source": [
        "from sklearn.metrics.pairwise import cosine_similarity\r\n",
        "def get_word_similarity(word_1,word_2):\r\n",
        "  word_1_vector = skipGramModel.wv.get_vector(word_1)\r\n",
        "  word_2_vector = skipGramModel.wv.get_vector(word_2)\r\n",
        "\r\n",
        "  similarity = cosine_similarity(word_1_vector.reshape(1,-1),word_2_vector.reshape(1,-1))[0][0]\r\n",
        "  return similarity\r\n",
        "\r\n",
        "print('Similarity between {} and {} is {}'.format('tiger','tiger',get_word_similarity('tiger','tiger')))\r\n",
        "print('Similarity between {} and {} is {}'.format('tiger','cat',get_word_similarity('tiger','cat')))\r\n",
        "try :\r\n",
        "  print('Similarity between {} and {} is {}'.format('plane','car',get_word_similarity('plane','car')))\r\n",
        "except:\r\n",
        "  print(\"none\")"
      ],
      "execution_count": 54,
      "outputs": [
        {
          "output_type": "stream",
          "text": [
            "Similarity between tiger and tiger is 1.0000001192092896\n",
            "Similarity between tiger and cat is 0.9763056635856628\n",
            "none\n"
          ],
          "name": "stdout"
        }
      ]
    },
    {
      "cell_type": "code",
      "metadata": {
        "id": "vHgd1sEoJTwK"
      },
      "source": [
        "from sklearn.metrics.pairwise import cosine_similarity\r\n",
        "cos_sim_val=[]\r\n",
        "\r\n",
        "def get_word_similarity(word_1,word_2):\r\n",
        "  try:\r\n",
        "    word_1_vector = skipGramModel.wv.get_vector(word_1)\r\n",
        "    word_2_vector = skipGramModel.wv.get_vector(word_2)\r\n",
        "  except:\r\n",
        "    return 0\r\n",
        "\r\n",
        "  similarity = cosine_similarity(word_1_vector.reshape(1,-1),word_2_vector.reshape(1,-1))[0][0]\r\n",
        "  return similarity\r\n",
        "\r\n",
        "\r\n",
        "for i,j in zip(word1,word2):\r\n",
        "    cos_sim_val.append(get_word_similarity(i,j))"
      ],
      "execution_count": 55,
      "outputs": []
    },
    {
      "cell_type": "markdown",
      "metadata": {
        "id": "jTI5DjH3JoTR"
      },
      "source": [
        "**CALCULATING SPEARMAN CORRELATION COEFFICIENT**"
      ]
    },
    {
      "cell_type": "code",
      "metadata": {
        "colab": {
          "base_uri": "https://localhost:8080/"
        },
        "id": "_tXaqylJJX4Q",
        "outputId": "37e692da-1753-40c0-928e-2b84c53a133b"
      },
      "source": [
        "from scipy import stats\r\n",
        "stats.spearmanr(referenceVal,cos_sim_val)"
      ],
      "execution_count": 56,
      "outputs": [
        {
          "output_type": "execute_result",
          "data": {
            "text/plain": [
              "SpearmanrResult(correlation=-0.3557410243778236, pvalue=2.0403978887008483e-07)"
            ]
          },
          "metadata": {
            "tags": []
          },
          "execution_count": 56
        }
      ]
    }
  ]
}